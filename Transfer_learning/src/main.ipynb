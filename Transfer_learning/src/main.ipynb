{
 "cells": [
  {
   "cell_type": "code",
   "execution_count": 1,
   "metadata": {},
   "outputs": [],
   "source": [
    "# from dataset import preprocess_data\n",
    "\n",
    "# preprocess_data(src_dir=\"../data/raw\", out_dir=\"../data/processed\")"
   ]
  },
  {
   "cell_type": "code",
   "execution_count": 7,
   "metadata": {},
   "outputs": [],
   "source": [
    "# Model with Hpyperparameter\n",
    "\n",
    "model = \"DenseNet121\"\n",
    "batch_size = 4\n",
    "learning_rate = 0.00001\n",
    "epoch = 10\n",
    "kfold = 10\n",
    "aug = 0.2\n",
    "cuda = True"
   ]
  },
  {
   "cell_type": "code",
   "execution_count": 3,
   "metadata": {},
   "outputs": [
    {
     "name": "stdout",
     "output_type": "stream",
     "text": [
      "----- fold 1 -----\n",
      "epoch 1: train loss: 0.546 train accuracy: 0.763 validation loss: 0.388 validation accuracy: 0.883\n",
      "epoch 2: train loss: 0.375 train accuracy: 0.874 validation loss: 0.366 validation accuracy: 0.883\n",
      "epoch 3: train loss: 0.317 train accuracy: 0.889 validation loss: 0.295 validation accuracy: 0.917\n",
      "epoch 4: train loss: 0.278 train accuracy: 0.908 validation loss: 0.271 validation accuracy: 0.933\n",
      "epoch 5: train loss: 0.227 train accuracy: 0.944 validation loss: 0.234 validation accuracy: 0.95\n",
      "epoch 6: train loss: 0.19 train accuracy: 0.944 validation loss: 0.191 validation accuracy: 0.95\n",
      "epoch 7: train loss: 0.179 train accuracy: 0.947 validation loss: 0.164 validation accuracy: 0.917\n",
      "epoch 8: train loss: 0.172 train accuracy: 0.951 validation loss: 0.155 validation accuracy: 0.967\n",
      "epoch 9: train loss: 0.136 train accuracy: 0.97 validation loss: 0.214 validation accuracy: 0.95\n",
      "epoch 10: train loss: 0.102 train accuracy: 0.983 validation loss: 0.181 validation accuracy: 0.95\n",
      "----- fold 2 -----\n",
      "epoch 1: train loss: 0.561 train accuracy: 0.748 validation loss: 0.358 validation accuracy: 0.883\n",
      "epoch 2: train loss: 0.393 train accuracy: 0.872 validation loss: 0.282 validation accuracy: 0.933\n",
      "epoch 3: train loss: 0.339 train accuracy: 0.867 validation loss: 0.236 validation accuracy: 0.933\n",
      "epoch 4: train loss: 0.26 train accuracy: 0.91 validation loss: 0.187 validation accuracy: 0.933\n",
      "epoch 5: train loss: 0.261 train accuracy: 0.914 validation loss: 0.137 validation accuracy: 0.967\n",
      "epoch 6: train loss: 0.188 train accuracy: 0.944 validation loss: 0.157 validation accuracy: 0.95\n",
      "epoch 7: train loss: 0.169 train accuracy: 0.953 validation loss: 0.134 validation accuracy: 0.95\n",
      "epoch 8: train loss: 0.167 train accuracy: 0.944 validation loss: 0.103 validation accuracy: 0.967\n",
      "epoch 9: train loss: 0.14 train accuracy: 0.966 validation loss: 0.112 validation accuracy: 0.967\n",
      "epoch 10: train loss: 0.142 train accuracy: 0.968 validation loss: 0.118 validation accuracy: 0.967\n",
      "----- fold 3 -----\n",
      "epoch 1: train loss: 0.777 train accuracy: 0.433 validation loss: 0.545 validation accuracy: 0.729\n",
      "epoch 2: train loss: 0.466 train accuracy: 0.844 validation loss: 0.358 validation accuracy: 0.915\n",
      "epoch 3: train loss: 0.362 train accuracy: 0.874 validation loss: 0.264 validation accuracy: 0.915\n",
      "epoch 4: train loss: 0.289 train accuracy: 0.904 validation loss: 0.242 validation accuracy: 0.915\n",
      "epoch 5: train loss: 0.226 train accuracy: 0.932 validation loss: 0.212 validation accuracy: 0.932\n",
      "epoch 6: train loss: 0.22 train accuracy: 0.927 validation loss: 0.187 validation accuracy: 0.932\n",
      "epoch 7: train loss: 0.158 train accuracy: 0.957 validation loss: 0.172 validation accuracy: 0.949\n",
      "epoch 8: train loss: 0.161 train accuracy: 0.964 validation loss: 0.189 validation accuracy: 0.949\n",
      "epoch 9: train loss: 0.12 train accuracy: 0.977 validation loss: 0.144 validation accuracy: 0.932\n",
      "epoch 10: train loss: 0.147 train accuracy: 0.955 validation loss: 0.147 validation accuracy: 0.932\n",
      "----- fold 4 -----\n",
      "epoch 1: train loss: 0.621 train accuracy: 0.674 validation loss: 0.443 validation accuracy: 0.915\n",
      "epoch 2: train loss: 0.401 train accuracy: 0.867 validation loss: 0.294 validation accuracy: 0.932\n",
      "epoch 3: train loss: 0.302 train accuracy: 0.904 validation loss: 0.234 validation accuracy: 0.949\n",
      "epoch 4: train loss: 0.266 train accuracy: 0.904 validation loss: 0.171 validation accuracy: 0.966\n",
      "epoch 5: train loss: 0.241 train accuracy: 0.908 validation loss: 0.146 validation accuracy: 0.966\n",
      "epoch 6: train loss: 0.208 train accuracy: 0.934 validation loss: 0.138 validation accuracy: 0.983\n",
      "epoch 7: train loss: 0.173 train accuracy: 0.944 validation loss: 0.13 validation accuracy: 0.983\n",
      "epoch 8: train loss: 0.171 train accuracy: 0.957 validation loss: 0.088 validation accuracy: 0.983\n",
      "epoch 9: train loss: 0.115 train accuracy: 0.977 validation loss: 0.087 validation accuracy: 0.983\n",
      "epoch 10: train loss: 0.14 train accuracy: 0.955 validation loss: 0.091 validation accuracy: 0.983\n",
      "----- fold 5 -----\n",
      "epoch 1: train loss: 0.707 train accuracy: 0.501 validation loss: 0.546 validation accuracy: 0.763\n",
      "epoch 2: train loss: 0.443 train accuracy: 0.861 validation loss: 0.349 validation accuracy: 0.898\n",
      "epoch 3: train loss: 0.325 train accuracy: 0.897 validation loss: 0.308 validation accuracy: 0.881\n",
      "epoch 4: train loss: 0.324 train accuracy: 0.872 validation loss: 0.26 validation accuracy: 0.932\n",
      "epoch 5: train loss: 0.262 train accuracy: 0.916 validation loss: 0.234 validation accuracy: 0.932\n",
      "epoch 6: train loss: 0.23 train accuracy: 0.936 validation loss: 0.229 validation accuracy: 0.932\n",
      "epoch 7: train loss: 0.195 train accuracy: 0.951 validation loss: 0.249 validation accuracy: 0.898\n",
      "epoch 8: train loss: 0.185 train accuracy: 0.947 validation loss: 0.205 validation accuracy: 0.915\n",
      "epoch 9: train loss: 0.15 train accuracy: 0.968 validation loss: 0.331 validation accuracy: 0.881\n",
      "epoch 10: train loss: 0.1 train accuracy: 0.974 validation loss: 0.323 validation accuracy: 0.864\n",
      "----- fold 6 -----\n",
      "epoch 1: train loss: 0.542 train accuracy: 0.758 validation loss: 0.431 validation accuracy: 0.847\n",
      "epoch 2: train loss: 0.388 train accuracy: 0.872 validation loss: 0.292 validation accuracy: 0.898\n",
      "epoch 3: train loss: 0.323 train accuracy: 0.886 validation loss: 0.274 validation accuracy: 0.881\n",
      "epoch 4: train loss: 0.248 train accuracy: 0.919 validation loss: 0.27 validation accuracy: 0.881\n",
      "epoch 5: train loss: 0.225 train accuracy: 0.923 validation loss: 0.264 validation accuracy: 0.864\n",
      "epoch 6: train loss: 0.188 train accuracy: 0.957 validation loss: 0.233 validation accuracy: 0.915\n",
      "epoch 7: train loss: 0.146 train accuracy: 0.962 validation loss: 0.248 validation accuracy: 0.915\n",
      "epoch 8: train loss: 0.18 train accuracy: 0.944 validation loss: 0.292 validation accuracy: 0.864\n",
      "epoch 9: train loss: 0.148 train accuracy: 0.972 validation loss: 0.299 validation accuracy: 0.898\n",
      "epoch 10: train loss: 0.126 train accuracy: 0.979 validation loss: 0.311 validation accuracy: 0.847\n",
      "----- fold 7 -----\n",
      "epoch 1: train loss: 0.639 train accuracy: 0.636 validation loss: 0.498 validation accuracy: 0.831\n",
      "epoch 2: train loss: 0.442 train accuracy: 0.846 validation loss: 0.353 validation accuracy: 0.881\n",
      "epoch 3: train loss: 0.364 train accuracy: 0.869 validation loss: 0.272 validation accuracy: 0.898\n",
      "epoch 4: train loss: 0.273 train accuracy: 0.908 validation loss: 0.199 validation accuracy: 0.949\n",
      "epoch 5: train loss: 0.228 train accuracy: 0.929 validation loss: 0.198 validation accuracy: 0.915\n",
      "epoch 6: train loss: 0.237 train accuracy: 0.923 validation loss: 0.177 validation accuracy: 0.932\n",
      "epoch 7: train loss: 0.195 train accuracy: 0.946 validation loss: 0.181 validation accuracy: 0.932\n",
      "epoch 8: train loss: 0.186 train accuracy: 0.942 validation loss: 0.144 validation accuracy: 0.932\n",
      "epoch 9: train loss: 0.129 train accuracy: 0.972 validation loss: 0.182 validation accuracy: 0.949\n",
      "epoch 10: train loss: 0.197 train accuracy: 0.949 validation loss: 0.128 validation accuracy: 0.949\n",
      "----- fold 8 -----\n",
      "epoch 1: train loss: 0.587 train accuracy: 0.724 validation loss: 0.525 validation accuracy: 0.712\n",
      "epoch 2: train loss: 0.428 train accuracy: 0.848 validation loss: 0.425 validation accuracy: 0.847\n",
      "epoch 3: train loss: 0.327 train accuracy: 0.893 validation loss: 0.336 validation accuracy: 0.898\n",
      "epoch 4: train loss: 0.295 train accuracy: 0.901 validation loss: 0.297 validation accuracy: 0.915\n",
      "epoch 5: train loss: 0.257 train accuracy: 0.914 validation loss: 0.275 validation accuracy: 0.932\n",
      "epoch 6: train loss: 0.195 train accuracy: 0.944 validation loss: 0.229 validation accuracy: 0.932\n",
      "epoch 7: train loss: 0.148 train accuracy: 0.968 validation loss: 0.237 validation accuracy: 0.949\n",
      "epoch 8: train loss: 0.152 train accuracy: 0.968 validation loss: 0.201 validation accuracy: 0.932\n",
      "epoch 9: train loss: 0.154 train accuracy: 0.966 validation loss: 0.198 validation accuracy: 0.932\n",
      "epoch 10: train loss: 0.136 train accuracy: 0.983 validation loss: 0.132 validation accuracy: 0.983\n",
      "----- fold 9 -----\n",
      "epoch 1: train loss: 0.646 train accuracy: 0.608 validation loss: 0.419 validation accuracy: 0.932\n",
      "epoch 2: train loss: 0.422 train accuracy: 0.861 validation loss: 0.259 validation accuracy: 0.949\n",
      "epoch 3: train loss: 0.33 train accuracy: 0.901 validation loss: 0.18 validation accuracy: 0.983\n",
      "epoch 4: train loss: 0.272 train accuracy: 0.902 validation loss: 0.156 validation accuracy: 0.983\n",
      "epoch 5: train loss: 0.236 train accuracy: 0.929 validation loss: 0.141 validation accuracy: 0.966\n",
      "epoch 6: train loss: 0.215 train accuracy: 0.944 validation loss: 0.128 validation accuracy: 0.966\n",
      "epoch 7: train loss: 0.191 train accuracy: 0.946 validation loss: 0.11 validation accuracy: 0.949\n",
      "epoch 8: train loss: 0.163 train accuracy: 0.962 validation loss: 0.122 validation accuracy: 0.983\n",
      "epoch 9: train loss: 0.128 train accuracy: 0.976 validation loss: 0.071 validation accuracy: 0.983\n",
      "epoch 10: train loss: 0.114 train accuracy: 0.964 validation loss: 0.075 validation accuracy: 0.983\n",
      "----- fold 10 -----\n",
      "epoch 1: train loss: 0.53 train accuracy: 0.752 validation loss: 0.483 validation accuracy: 0.746\n",
      "epoch 2: train loss: 0.448 train accuracy: 0.814 validation loss: 0.431 validation accuracy: 0.847\n",
      "epoch 3: train loss: 0.325 train accuracy: 0.891 validation loss: 0.367 validation accuracy: 0.847\n",
      "epoch 4: train loss: 0.275 train accuracy: 0.914 validation loss: 0.292 validation accuracy: 0.847\n",
      "epoch 5: train loss: 0.25 train accuracy: 0.936 validation loss: 0.252 validation accuracy: 0.898\n",
      "epoch 6: train loss: 0.219 train accuracy: 0.942 validation loss: 0.203 validation accuracy: 0.915\n",
      "epoch 7: train loss: 0.194 train accuracy: 0.942 validation loss: 0.234 validation accuracy: 0.864\n",
      "epoch 8: train loss: 0.168 train accuracy: 0.961 validation loss: 0.272 validation accuracy: 0.864\n",
      "epoch 9: train loss: 0.137 train accuracy: 0.976 validation loss: 0.261 validation accuracy: 0.881\n",
      "epoch 10: train loss: 0.131 train accuracy: 0.976 validation loss: 0.214 validation accuracy: 0.898\n"
     ]
    }
   ],
   "source": [
    "from train import MyTraniner\n",
    "\n",
    "trainer = MyTraniner(model=model, batch_size=batch_size, learning_rate=learning_rate, epoch=epoch, kfold=kfold, aug=aug, cuda=cuda)\n",
    "trainer.train()"
   ]
  },
  {
   "cell_type": "code",
   "execution_count": 5,
   "metadata": {},
   "outputs": [
    {
     "name": "stdout",
     "output_type": "stream",
     "text": [
      "epoch 1: train loss: 0.572 train accuracy: 0.758\n",
      "epoch 2: train loss: 0.409 train accuracy: 0.855\n",
      "epoch 3: train loss: 0.314 train accuracy: 0.89\n",
      "epoch 4: train loss: 0.27 train accuracy: 0.909\n",
      "epoch 5: train loss: 0.225 train accuracy: 0.926\n",
      "epoch 6: train loss: 0.164 train accuracy: 0.959\n",
      "epoch 7: train loss: 0.146 train accuracy: 0.961\n",
      "epoch 8: train loss: 0.134 train accuracy: 0.965\n",
      "epoch 9: train loss: 0.123 train accuracy: 0.973\n",
      "epoch 10: train loss: 0.097 train accuracy: 0.98\n"
     ]
    }
   ],
   "source": [
    "from train import MyTraniner\n",
    "\n",
    "trainer = MyTraniner(model=model, batch_size=batch_size, learning_rate=learning_rate, epoch=epoch, kfold=kfold, aug=aug, cuda=cuda)\n",
    "trainer.retrain()"
   ]
  },
  {
   "cell_type": "code",
   "execution_count": 6,
   "metadata": {},
   "outputs": [
    {
     "name": "stdout",
     "output_type": "stream",
     "text": [
      "model --- test loss: 0.20603342002723365 test accuracy: 0.9166666666666666\n"
     ]
    }
   ],
   "source": [
    "from train import MyTraniner\n",
    "\n",
    "trainer = MyTraniner(model=model, batch_size=batch_size, learning_rate=learning_rate, epoch=epoch, kfold=kfold, aug=aug, cuda=cuda)\n",
    "trainer.accuracy()"
   ]
  }
 ],
 "metadata": {
  "kernelspec": {
   "display_name": "Computer_Vision",
   "language": "python",
   "name": "python3"
  },
  "language_info": {
   "codemirror_mode": {
    "name": "ipython",
    "version": 3
   },
   "file_extension": ".py",
   "mimetype": "text/x-python",
   "name": "python",
   "nbconvert_exporter": "python",
   "pygments_lexer": "ipython3",
   "version": "3.9.16"
  },
  "orig_nbformat": 4
 },
 "nbformat": 4,
 "nbformat_minor": 2
}

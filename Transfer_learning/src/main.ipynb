{
 "cells": [
  {
   "cell_type": "code",
   "execution_count": 2,
   "metadata": {},
   "outputs": [],
   "source": [
    "# from dataset import preprocess_data\n",
    "\n",
    "# preprocess_data(src_dir=\"../data/raw\", out_dir=\"../data/processed\")"
   ]
  },
  {
   "cell_type": "code",
   "execution_count": 16,
   "metadata": {},
   "outputs": [],
   "source": [
    "# Model with Hpyperparameter\n",
    "\n",
    "model = \"DenseNet121\"\n",
    "batch_size = 16\n",
    "learning_rate = 0.00001\n",
    "epoch = 40\n",
    "kfold = 1\n",
    "aug = True\n",
    "cuda = True"
   ]
  },
  {
   "cell_type": "code",
   "execution_count": 17,
   "metadata": {},
   "outputs": [
    {
     "name": "stdout",
     "output_type": "stream",
     "text": [
      "epoch 1: train loss: 0.567 train accuracy: 0.711 validation loss: 0.448 validation accuracy: 0.8\n",
      "epoch 2: train loss: 0.489 train accuracy: 0.774 validation loss: 0.385 validation accuracy: 0.908\n",
      "epoch 3: train loss: 0.438 train accuracy: 0.807 validation loss: 0.338 validation accuracy: 0.917\n",
      "epoch 4: train loss: 0.378 train accuracy: 0.866 validation loss: 0.307 validation accuracy: 0.917\n",
      "epoch 5: train loss: 0.341 train accuracy: 0.879 validation loss: 0.281 validation accuracy: 0.908\n",
      "epoch 6: train loss: 0.296 train accuracy: 0.901 validation loss: 0.266 validation accuracy: 0.9\n",
      "epoch 7: train loss: 0.253 train accuracy: 0.923 validation loss: 0.241 validation accuracy: 0.9\n",
      "epoch 8: train loss: 0.245 train accuracy: 0.93 validation loss: 0.229 validation accuracy: 0.9\n",
      "epoch 9: train loss: 0.198 train accuracy: 0.947 validation loss: 0.226 validation accuracy: 0.9\n",
      "epoch 10: train loss: 0.203 train accuracy: 0.941 validation loss: 0.212 validation accuracy: 0.908\n",
      "epoch 11: train loss: 0.188 train accuracy: 0.941 validation loss: 0.215 validation accuracy: 0.9\n",
      "epoch 12: train loss: 0.176 train accuracy: 0.932 validation loss: 0.208 validation accuracy: 0.917\n",
      "epoch 13: train loss: 0.158 train accuracy: 0.954 validation loss: 0.204 validation accuracy: 0.917\n",
      "epoch 14: train loss: 0.164 train accuracy: 0.952 validation loss: 0.19 validation accuracy: 0.917\n",
      "epoch 15: train loss: 0.148 train accuracy: 0.954 validation loss: 0.191 validation accuracy: 0.917\n",
      "epoch 16: train loss: 0.137 train accuracy: 0.958 validation loss: 0.181 validation accuracy: 0.925\n",
      "epoch 17: train loss: 0.116 train accuracy: 0.967 validation loss: 0.189 validation accuracy: 0.925\n",
      "epoch 18: train loss: 0.114 train accuracy: 0.967 validation loss: 0.19 validation accuracy: 0.925\n",
      "epoch 19: train loss: 0.107 train accuracy: 0.978 validation loss: 0.185 validation accuracy: 0.917\n",
      "epoch 20: train loss: 0.096 train accuracy: 0.978 validation loss: 0.177 validation accuracy: 0.933\n",
      "epoch 21: train loss: 0.095 train accuracy: 0.98 validation loss: 0.172 validation accuracy: 0.933\n",
      "epoch 22: train loss: 0.082 train accuracy: 0.982 validation loss: 0.203 validation accuracy: 0.883\n",
      "epoch 23: train loss: 0.085 train accuracy: 0.978 validation loss: 0.181 validation accuracy: 0.933\n",
      "epoch 24: train loss: 0.077 train accuracy: 0.989 validation loss: 0.185 validation accuracy: 0.917\n",
      "epoch 25: train loss: 0.082 train accuracy: 0.976 validation loss: 0.183 validation accuracy: 0.933\n",
      "epoch 26: train loss: 0.09 train accuracy: 0.978 validation loss: 0.165 validation accuracy: 0.933\n",
      "epoch 27: train loss: 0.052 train accuracy: 0.996 validation loss: 0.181 validation accuracy: 0.925\n",
      "epoch 28: train loss: 0.084 train accuracy: 0.974 validation loss: 0.183 validation accuracy: 0.933\n",
      "epoch 29: train loss: 0.068 train accuracy: 0.982 validation loss: 0.188 validation accuracy: 0.933\n",
      "epoch 30: train loss: 0.06 train accuracy: 0.989 validation loss: 0.191 validation accuracy: 0.925\n",
      "epoch 31: train loss: 0.045 train accuracy: 0.993 validation loss: 0.182 validation accuracy: 0.925\n",
      "epoch 32: train loss: 0.045 train accuracy: 0.993 validation loss: 0.193 validation accuracy: 0.917\n",
      "epoch 33: train loss: 0.035 train accuracy: 0.993 validation loss: 0.184 validation accuracy: 0.917\n",
      "epoch 34: train loss: 0.048 train accuracy: 0.991 validation loss: 0.191 validation accuracy: 0.917\n",
      "epoch 35: train loss: 0.027 train accuracy: 1.0 validation loss: 0.186 validation accuracy: 0.933\n",
      "epoch 36: train loss: 0.04 train accuracy: 0.991 validation loss: 0.187 validation accuracy: 0.917\n",
      "epoch 37: train loss: 0.037 train accuracy: 0.996 validation loss: 0.181 validation accuracy: 0.917\n",
      "epoch 38: train loss: 0.031 train accuracy: 0.993 validation loss: 0.184 validation accuracy: 0.933\n",
      "epoch 39: train loss: 0.034 train accuracy: 0.998 validation loss: 0.183 validation accuracy: 0.925\n",
      "epoch 40: train loss: 0.035 train accuracy: 0.998 validation loss: 0.214 validation accuracy: 0.908\n"
     ]
    }
   ],
   "source": [
    "from train import MyTraniner\n",
    "\n",
    "trainer = MyTraniner(model=model, batch_size=batch_size, learning_rate=learning_rate, epoch=epoch, kfold=kfold, aug=aug, cuda=cuda)\n",
    "trainer.train()"
   ]
  },
  {
   "cell_type": "code",
   "execution_count": null,
   "metadata": {},
   "outputs": [
    {
     "name": "stdout",
     "output_type": "stream",
     "text": [
      "model --- test loss: 0.3202366255223751 test accuracy: 0.875\n"
     ]
    }
   ],
   "source": [
    "from train import MyTraniner\n",
    "\n",
    "trainer = MyTraniner(model=model, batch_size=batch_size, learning_rate=learning_rate, epoch=epoch, kfold=kfold, aug=aug, cuda=cuda)\n",
    "trainer.accuracy()"
   ]
  }
 ],
 "metadata": {
  "kernelspec": {
   "display_name": "Computer_Vision",
   "language": "python",
   "name": "python3"
  },
  "language_info": {
   "codemirror_mode": {
    "name": "ipython",
    "version": 3
   },
   "file_extension": ".py",
   "mimetype": "text/x-python",
   "name": "python",
   "nbconvert_exporter": "python",
   "pygments_lexer": "ipython3",
   "version": "3.9.16"
  },
  "orig_nbformat": 4
 },
 "nbformat": 4,
 "nbformat_minor": 2
}

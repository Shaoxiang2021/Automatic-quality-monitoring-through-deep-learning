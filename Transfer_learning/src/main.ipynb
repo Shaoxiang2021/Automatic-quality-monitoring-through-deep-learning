{
 "cells": [
  {
   "cell_type": "code",
   "execution_count": 1,
   "metadata": {},
   "outputs": [],
   "source": [
    "# from dataset import preprocess_data\n",
    "\n",
    "# preprocess_data(src_dir=\"../data/raw\", out_dir=\"../data/processed\")"
   ]
  },
  {
   "cell_type": "code",
   "execution_count": 34,
   "metadata": {},
   "outputs": [
    {
     "name": "stdout",
     "output_type": "stream",
     "text": [
      "epoch 1: train loss: 0.541 train accuracy: 0.711 validation loss: 0.358 validation accuracy: 0.825\n",
      "epoch 2: train loss: 0.424 train accuracy: 0.803 validation loss: 0.311 validation accuracy: 0.908\n",
      "epoch 3: train loss: 0.333 train accuracy: 0.886 validation loss: 0.268 validation accuracy: 0.883\n",
      "epoch 4: train loss: 0.27 train accuracy: 0.914 validation loss: 0.26 validation accuracy: 0.9\n",
      "epoch 5: train loss: 0.256 train accuracy: 0.928 validation loss: 0.224 validation accuracy: 0.9\n",
      "epoch 6: train loss: 0.182 train accuracy: 0.963 validation loss: 0.204 validation accuracy: 0.917\n",
      "epoch 7: train loss: 0.157 train accuracy: 0.961 validation loss: 0.244 validation accuracy: 0.9\n",
      "epoch 8: train loss: 0.129 train accuracy: 0.987 validation loss: 0.227 validation accuracy: 0.917\n",
      "epoch 9: train loss: 0.126 train accuracy: 0.978 validation loss: 0.234 validation accuracy: 0.9\n",
      "epoch 10: train loss: 0.108 train accuracy: 0.987 validation loss: 0.182 validation accuracy: 0.917\n"
     ]
    }
   ],
   "source": [
    "from train import MyTraniner\n",
    "from model import LoadModule\n",
    "\n",
    "loader = LoadModule(\"DenseNet121\")\n",
    "model = loader()\n",
    "trainer = MyTraniner(model, batch_size=4, learning_rate=0.00001, epoch=10, cuda=True)\n",
    "trainer.train()"
   ]
  },
  {
   "cell_type": "code",
   "execution_count": 1,
   "metadata": {},
   "outputs": [
    {
     "name": "stdout",
     "output_type": "stream",
     "text": [
      "epoch 1: train loss: 0.304 train accuracy: 0.896 validation loss: 1.609 validation accuracy: 0.163\n",
      "epoch 2: train loss: 0.145 train accuracy: 0.956 validation loss: 1.288 validation accuracy: 0.38\n",
      "epoch 3: train loss: 0.073 train accuracy: 0.986 validation loss: 2.561 validation accuracy: 0.163\n",
      "epoch 4: train loss: 0.049 train accuracy: 0.995 validation loss: 1.209 validation accuracy: 0.565\n",
      "epoch 5: train loss: 0.055 train accuracy: 0.984 validation loss: 2.097 validation accuracy: 0.25\n",
      "epoch 1: train loss: 0.268 train accuracy: 0.893 validation loss: 0.504 validation accuracy: 0.758\n",
      "epoch 2: train loss: 0.097 train accuracy: 0.975 validation loss: 0.489 validation accuracy: 0.78\n",
      "epoch 3: train loss: 0.096 train accuracy: 0.995 validation loss: 0.422 validation accuracy: 0.813\n",
      "epoch 4: train loss: 0.084 train accuracy: 0.992 validation loss: 0.416 validation accuracy: 0.835\n",
      "epoch 5: train loss: 0.144 train accuracy: 0.964 validation loss: 0.337 validation accuracy: 0.846\n"
     ]
    },
    {
     "ename": "FileExistsError",
     "evalue": "[WinError 183] Eine Datei kann nicht erstellt werden, wenn sie bereits vorhanden ist: '../weights/model_DenseNet_5e-05_4_5_True'",
     "output_type": "error",
     "traceback": [
      "\u001b[1;31m---------------------------------------------------------------------------\u001b[0m",
      "\u001b[1;31mFileExistsError\u001b[0m                           Traceback (most recent call last)",
      "Cell \u001b[1;32mIn[1], line 7\u001b[0m\n\u001b[0;32m      5\u001b[0m model \u001b[39m=\u001b[39m loader()\n\u001b[0;32m      6\u001b[0m trainer \u001b[39m=\u001b[39m MyTraniner(model, batch_size\u001b[39m=\u001b[39m\u001b[39m4\u001b[39m, learning_rate\u001b[39m=\u001b[39m\u001b[39m0.00005\u001b[39m, epoch\u001b[39m=\u001b[39m\u001b[39m5\u001b[39m, cuda\u001b[39m=\u001b[39m\u001b[39mTrue\u001b[39;00m)\n\u001b[1;32m----> 7\u001b[0m trainer\u001b[39m.\u001b[39;49mk_fold_train(k\u001b[39m=\u001b[39;49m\u001b[39m5\u001b[39;49m)\n",
      "File \u001b[1;32mc:\\Users\\tsx10\\PythonProjectsJupyter\\TUM\\FP\\trainning_dense121\\src\\train.py:130\u001b[0m, in \u001b[0;36mMyTraniner.k_fold_train\u001b[1;34m(self, k)\u001b[0m\n\u001b[0;32m    128\u001b[0m     fold_accs\u001b[39m.\u001b[39mappend(val_accuracy)\n\u001b[0;32m    129\u001b[0m     model_path \u001b[39m=\u001b[39m \u001b[39m\"\u001b[39m\u001b[39m../weights/model_\u001b[39m\u001b[39m\"\u001b[39m \u001b[39m+\u001b[39m \u001b[39m'\u001b[39m\u001b[39m_\u001b[39m\u001b[39m'\u001b[39m\u001b[39m.\u001b[39mjoin([\u001b[39mself\u001b[39m\u001b[39m.\u001b[39mmodel\u001b[39m.\u001b[39m_get_name(), \u001b[39mstr\u001b[39m(\u001b[39mself\u001b[39m\u001b[39m.\u001b[39mlr), \u001b[39mstr\u001b[39m(\u001b[39mself\u001b[39m\u001b[39m.\u001b[39mbatch_size), \u001b[39mstr\u001b[39m(\u001b[39mself\u001b[39m\u001b[39m.\u001b[39mepoch), \u001b[39mstr\u001b[39m(\u001b[39mself\u001b[39m\u001b[39m.\u001b[39mcuda)]) \u001b[39m+\u001b[39m \u001b[39m'\u001b[39m\u001b[39m/\u001b[39m\u001b[39m'\u001b[39m \u001b[39m+\u001b[39m \u001b[39m'\u001b[39m\u001b[39m_\u001b[39m\u001b[39m'\u001b[39m\u001b[39m.\u001b[39mjoin([\u001b[39mself\u001b[39m\u001b[39m.\u001b[39mmodel\u001b[39m.\u001b[39m_get_name(), \u001b[39mstr\u001b[39m(\u001b[39mself\u001b[39m\u001b[39m.\u001b[39mlr), \u001b[39mstr\u001b[39m(\u001b[39mself\u001b[39m\u001b[39m.\u001b[39mbatch_size), \u001b[39mstr\u001b[39m(\u001b[39mself\u001b[39m\u001b[39m.\u001b[39mepoch), \u001b[39mstr\u001b[39m(\u001b[39mself\u001b[39m\u001b[39m.\u001b[39mcuda)]) \u001b[39m+\u001b[39m \u001b[39m\"\u001b[39m\u001b[39m.pth\u001b[39m\u001b[39m\"\u001b[39m\n\u001b[1;32m--> 130\u001b[0m     os\u001b[39m.\u001b[39;49mmakedirs(\u001b[39m\"\u001b[39;49m\u001b[39m../weights/model_\u001b[39;49m\u001b[39m\"\u001b[39;49m \u001b[39m+\u001b[39;49m \u001b[39m'\u001b[39;49m\u001b[39m_\u001b[39;49m\u001b[39m'\u001b[39;49m\u001b[39m.\u001b[39;49mjoin([\u001b[39mself\u001b[39;49m\u001b[39m.\u001b[39;49mmodel\u001b[39m.\u001b[39;49m_get_name(), \u001b[39mstr\u001b[39;49m(\u001b[39mself\u001b[39;49m\u001b[39m.\u001b[39;49mlr), \u001b[39mstr\u001b[39;49m(\u001b[39mself\u001b[39;49m\u001b[39m.\u001b[39;49mbatch_size), \u001b[39mstr\u001b[39;49m(\u001b[39mself\u001b[39;49m\u001b[39m.\u001b[39;49mepoch), \u001b[39mstr\u001b[39;49m(\u001b[39mself\u001b[39;49m\u001b[39m.\u001b[39;49mcuda)]))\n\u001b[0;32m    131\u001b[0m     \u001b[39mself\u001b[39m\u001b[39m.\u001b[39msave_model(model_path)\n\u001b[0;32m    132\u001b[0m fold_loss \u001b[39m=\u001b[39m np\u001b[39m.\u001b[39marray(fold_loss)\n",
      "File \u001b[1;32mc:\\Users\\tsx10\\anaconda3\\envs\\Computer_Vision\\lib\\os.py:225\u001b[0m, in \u001b[0;36mmakedirs\u001b[1;34m(name, mode, exist_ok)\u001b[0m\n\u001b[0;32m    223\u001b[0m         \u001b[39mreturn\u001b[39;00m\n\u001b[0;32m    224\u001b[0m \u001b[39mtry\u001b[39;00m:\n\u001b[1;32m--> 225\u001b[0m     mkdir(name, mode)\n\u001b[0;32m    226\u001b[0m \u001b[39mexcept\u001b[39;00m \u001b[39mOSError\u001b[39;00m:\n\u001b[0;32m    227\u001b[0m     \u001b[39m# Cannot rely on checking for EEXIST, since the operating system\u001b[39;00m\n\u001b[0;32m    228\u001b[0m     \u001b[39m# could give priority to other errors like EACCES or EROFS\u001b[39;00m\n\u001b[0;32m    229\u001b[0m     \u001b[39mif\u001b[39;00m \u001b[39mnot\u001b[39;00m exist_ok \u001b[39mor\u001b[39;00m \u001b[39mnot\u001b[39;00m path\u001b[39m.\u001b[39misdir(name):\n",
      "\u001b[1;31mFileExistsError\u001b[0m: [WinError 183] Eine Datei kann nicht erstellt werden, wenn sie bereits vorhanden ist: '../weights/model_DenseNet_5e-05_4_5_True'"
     ]
    }
   ],
   "source": [
    "from train import MyTraniner\n",
    "from model import LoadModule\n",
    "\n",
    "loader = LoadModule(\"DenseNet121\")\n",
    "model = loader()\n",
    "trainer = MyTraniner(model, batch_size=4, learning_rate=0.00005, epoch=5, cuda=True)\n",
    "trainer.k_fold_train(k=5)"
   ]
  }
 ],
 "metadata": {
  "kernelspec": {
   "display_name": "Computer_Vision",
   "language": "python",
   "name": "python3"
  },
  "language_info": {
   "codemirror_mode": {
    "name": "ipython",
    "version": 3
   },
   "file_extension": ".py",
   "mimetype": "text/x-python",
   "name": "python",
   "nbconvert_exporter": "python",
   "pygments_lexer": "ipython3",
   "version": "3.9.16"
  },
  "orig_nbformat": 4
 },
 "nbformat": 4,
 "nbformat_minor": 2
}

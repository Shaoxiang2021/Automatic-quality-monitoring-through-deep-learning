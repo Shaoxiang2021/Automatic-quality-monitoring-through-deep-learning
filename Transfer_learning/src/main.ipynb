{
 "cells": [
  {
   "cell_type": "code",
   "execution_count": null,
   "metadata": {},
   "outputs": [],
   "source": [
    "# from dataset import preprocess_data\n",
    "\n",
    "# preprocess_data(src_dir=\"../data/raw\", out_dir=\"../data/processed\")"
   ]
  },
  {
   "cell_type": "code",
   "execution_count": 5,
   "metadata": {},
   "outputs": [],
   "source": [
    "# Model with Hpyperparameter\n",
    "\n",
    "config = {\n",
    "    'model': \"DenseNet121\",\n",
    "    'batch_size': 16,\n",
    "    'learning_rate': 0.00001,\n",
    "    'epoch': 60,\n",
    "    'kfold': False,\n",
    "    'aug': True,\n",
    "    'early_stopping': True,\n",
    "    'cuda': True\n",
    "}"
   ]
  },
  {
   "cell_type": "code",
   "execution_count": 4,
   "metadata": {},
   "outputs": [
    {
     "name": "stdout",
     "output_type": "stream",
     "text": [
      "epoch 1: train loss: 0.662 train accuracy: 0.579 validation loss: 0.563 validation accuracy: 0.792\n",
      "epoch 2: train loss: 0.507 train accuracy: 0.864 validation loss: 0.47 validation accuracy: 0.85\n",
      "epoch 3: train loss: 0.401 train accuracy: 0.941 validation loss: 0.408 validation accuracy: 0.883\n",
      "epoch 4: train loss: 0.344 train accuracy: 0.939 validation loss: 0.354 validation accuracy: 0.883\n",
      "epoch 5: train loss: 0.274 train accuracy: 0.958 validation loss: 0.316 validation accuracy: 0.892\n",
      "epoch 6: train loss: 0.234 train accuracy: 0.963 validation loss: 0.3 validation accuracy: 0.883\n",
      "epoch 7: train loss: 0.192 train accuracy: 0.98 validation loss: 0.273 validation accuracy: 0.883\n",
      "epoch 8: train loss: 0.165 train accuracy: 0.978 validation loss: 0.264 validation accuracy: 0.883\n",
      "epoch 9: train loss: 0.141 train accuracy: 0.985 validation loss: 0.266 validation accuracy: 0.892\n",
      "epoch 10: train loss: 0.121 train accuracy: 0.987 validation loss: 0.237 validation accuracy: 0.892\n",
      "epoch 11: train loss: 0.102 train accuracy: 0.993 validation loss: 0.228 validation accuracy: 0.892\n",
      "epoch 12: train loss: 0.095 train accuracy: 0.993 validation loss: 0.224 validation accuracy: 0.892\n",
      "epoch 13: train loss: 0.084 train accuracy: 0.998 validation loss: 0.229 validation accuracy: 0.883\n",
      "epoch 14: train loss: 0.063 train accuracy: 1.0 validation loss: 0.229 validation accuracy: 0.883\n",
      "epoch 15: train loss: 0.082 train accuracy: 0.989 validation loss: 0.221 validation accuracy: 0.892\n",
      "epoch 16: train loss: 0.052 train accuracy: 1.0 validation loss: 0.219 validation accuracy: 0.892\n",
      "epoch 17: train loss: 0.049 train accuracy: 0.996 validation loss: 0.222 validation accuracy: 0.892\n",
      "epoch 18: train loss: 0.055 train accuracy: 0.996 validation loss: 0.23 validation accuracy: 0.892\n",
      "epoch 19: train loss: 0.041 train accuracy: 1.0 validation loss: 0.222 validation accuracy: 0.892\n",
      "epoch 20: train loss: 0.038 train accuracy: 0.998 validation loss: 0.232 validation accuracy: 0.9\n",
      "epoch 21: train loss: 0.032 train accuracy: 1.0 validation loss: 0.237 validation accuracy: 0.892\n",
      "epoch 22: train loss: 0.028 train accuracy: 1.0 validation loss: 0.238 validation accuracy: 0.892\n",
      "epoch 23: train loss: 0.034 train accuracy: 1.0 validation loss: 0.251 validation accuracy: 0.9\n",
      "epoch 24: train loss: 0.023 train accuracy: 1.0 validation loss: 0.253 validation accuracy: 0.9\n",
      "epoch 25: train loss: 0.028 train accuracy: 1.0 validation loss: 0.232 validation accuracy: 0.892\n",
      "epoch 26: train loss: 0.017 train accuracy: 1.0 validation loss: 0.232 validation accuracy: 0.892\n",
      "early stopping at echo 26\n"
     ]
    }
   ],
   "source": [
    "from train import MyTraniner\n",
    "\n",
    "trainer = MyTraniner(config=config)\n",
    "trainer.train()"
   ]
  },
  {
   "cell_type": "code",
   "execution_count": 5,
   "metadata": {},
   "outputs": [
    {
     "name": "stdout",
     "output_type": "stream",
     "text": [
      "model --- test loss: 0.21902902191504836 test accuracy: 0.8916666666666667\n"
     ]
    }
   ],
   "source": [
    "from train import MyTraniner\n",
    "\n",
    "trainer = MyTraniner(config=config)\n",
    "trainer.validation()"
   ]
  },
  {
   "cell_type": "code",
   "execution_count": 2,
   "metadata": {},
   "outputs": [
    {
     "name": "stdout",
     "output_type": "stream",
     "text": [
      "processing 0\n",
      "processing 1\n"
     ]
    }
   ],
   "source": [
    "from dataset import split_evaluation_dataset, preprocess_evaluation_data, preprocess_data\n",
    "\n",
    "# split_evaluation_dataset(folder_path=r\"C:\\Users\\tsx10\\PythonProjectsJupyter\\TUM\\FP\\Images\\split_images_11.06.23\", output_evaluation_path=\"../data/raw/evaluation\")\n",
    "\n",
    "# preprocess_data(src_dir=\"../data/raw\", out_dir=\"../data/processed\")\n",
    "preprocess_evaluation_data(src_dir=\"../data/raw/evaluation\", out_dir=\"../data/processed/evaluation\")"
   ]
  },
  {
   "cell_type": "code",
   "execution_count": 6,
   "metadata": {},
   "outputs": [
    {
     "name": "stdout",
     "output_type": "stream",
     "text": [
      "model --- test loss: 0.23849124275147915 test accuracy: 0.8803418803418803\n"
     ]
    }
   ],
   "source": [
    "from train import MyTraniner\n",
    "\n",
    "trainer = MyTraniner(config=config)\n",
    "trainer.evaluation()"
   ]
  }
 ],
 "metadata": {
  "kernelspec": {
   "display_name": "Computer_Vision",
   "language": "python",
   "name": "python3"
  },
  "language_info": {
   "codemirror_mode": {
    "name": "ipython",
    "version": 3
   },
   "file_extension": ".py",
   "mimetype": "text/x-python",
   "name": "python",
   "nbconvert_exporter": "python",
   "pygments_lexer": "ipython3",
   "version": "3.9.16"
  },
  "orig_nbformat": 4
 },
 "nbformat": 4,
 "nbformat_minor": 2
}

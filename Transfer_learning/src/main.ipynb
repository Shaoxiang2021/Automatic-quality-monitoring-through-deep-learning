{
 "cells": [
  {
   "cell_type": "code",
   "execution_count": 1,
   "metadata": {},
   "outputs": [],
   "source": [
    "# from dataset import preprocess_data\n",
    "\n",
    "# preprocess_data(src_dir=\"../data/raw\", out_dir=\"../data/processed\")"
   ]
  },
  {
   "cell_type": "code",
   "execution_count": 8,
   "metadata": {},
   "outputs": [],
   "source": [
    "# Model with Hpyperparameter\n",
    "\n",
    "model = \"DenseNet121\"\n",
    "batch_size = 8\n",
    "learning_rate = 0.000005\n",
    "epoch = 20\n",
    "kfold = 10\n",
    "aug = 0.5\n",
    "cuda = True"
   ]
  },
  {
   "cell_type": "code",
   "execution_count": 9,
   "metadata": {},
   "outputs": [
    {
     "name": "stdout",
     "output_type": "stream",
     "text": [
      "----- fold 1 -----\n",
      "epoch 1: train loss: 0.69 train accuracy: 0.546 validation loss: 0.591 validation accuracy: 0.725\n",
      "epoch 2: train loss: 0.518 train accuracy: 0.824 validation loss: 0.454 validation accuracy: 0.884\n",
      "epoch 3: train loss: 0.409 train accuracy: 0.894 validation loss: 0.377 validation accuracy: 0.913\n",
      "epoch 4: train loss: 0.343 train accuracy: 0.914 validation loss: 0.334 validation accuracy: 0.899\n",
      "epoch 5: train loss: 0.272 train accuracy: 0.938 validation loss: 0.278 validation accuracy: 0.942\n",
      "epoch 6: train loss: 0.219 train accuracy: 0.959 validation loss: 0.28 validation accuracy: 0.928\n",
      "epoch 7: train loss: 0.186 train accuracy: 0.958 validation loss: 0.211 validation accuracy: 0.942\n",
      "epoch 8: train loss: 0.157 train accuracy: 0.972 validation loss: 0.24 validation accuracy: 0.942\n",
      "epoch 9: train loss: 0.128 train accuracy: 0.976 validation loss: 0.185 validation accuracy: 0.957\n",
      "epoch 10: train loss: 0.116 train accuracy: 0.979 validation loss: 0.185 validation accuracy: 0.957\n",
      "----- fold 2 -----\n",
      "epoch 1: train loss: 0.547 train accuracy: 0.717 validation loss: 0.506 validation accuracy: 0.725\n",
      "epoch 2: train loss: 0.438 train accuracy: 0.826 validation loss: 0.463 validation accuracy: 0.812\n",
      "epoch 3: train loss: 0.35 train accuracy: 0.907 validation loss: 0.366 validation accuracy: 0.855\n",
      "epoch 4: train loss: 0.286 train accuracy: 0.924 validation loss: 0.33 validation accuracy: 0.913\n",
      "epoch 5: train loss: 0.226 train accuracy: 0.963 validation loss: 0.287 validation accuracy: 0.913\n",
      "epoch 6: train loss: 0.204 train accuracy: 0.943 validation loss: 0.259 validation accuracy: 0.899\n",
      "epoch 7: train loss: 0.17 train accuracy: 0.966 validation loss: 0.294 validation accuracy: 0.899\n",
      "epoch 8: train loss: 0.129 train accuracy: 0.974 validation loss: 0.225 validation accuracy: 0.899\n",
      "epoch 9: train loss: 0.115 train accuracy: 0.979 validation loss: 0.226 validation accuracy: 0.928\n",
      "epoch 10: train loss: 0.103 train accuracy: 0.976 validation loss: 0.221 validation accuracy: 0.899\n",
      "----- fold 3 -----\n",
      "epoch 1: train loss: 0.73 train accuracy: 0.463 validation loss: 0.628 validation accuracy: 0.667\n",
      "epoch 2: train loss: 0.53 train accuracy: 0.824 validation loss: 0.455 validation accuracy: 0.855\n",
      "epoch 3: train loss: 0.404 train accuracy: 0.902 validation loss: 0.362 validation accuracy: 0.942\n",
      "epoch 4: train loss: 0.319 train accuracy: 0.915 validation loss: 0.322 validation accuracy: 0.87\n",
      "epoch 5: train loss: 0.271 train accuracy: 0.924 validation loss: 0.278 validation accuracy: 0.87\n",
      "epoch 6: train loss: 0.231 train accuracy: 0.938 validation loss: 0.25 validation accuracy: 0.928\n",
      "epoch 7: train loss: 0.173 train accuracy: 0.963 validation loss: 0.218 validation accuracy: 0.899\n",
      "epoch 8: train loss: 0.151 train accuracy: 0.961 validation loss: 0.206 validation accuracy: 0.913\n",
      "epoch 9: train loss: 0.141 train accuracy: 0.964 validation loss: 0.189 validation accuracy: 0.957\n",
      "epoch 10: train loss: 0.111 train accuracy: 0.969 validation loss: 0.164 validation accuracy: 0.942\n",
      "----- fold 4 -----\n",
      "epoch 1: train loss: 0.576 train accuracy: 0.727 validation loss: 0.507 validation accuracy: 0.855\n",
      "epoch 2: train loss: 0.437 train accuracy: 0.854 validation loss: 0.371 validation accuracy: 0.913\n",
      "epoch 3: train loss: 0.344 train accuracy: 0.919 validation loss: 0.294 validation accuracy: 0.928\n",
      "epoch 4: train loss: 0.277 train accuracy: 0.95 validation loss: 0.229 validation accuracy: 0.971\n",
      "epoch 5: train loss: 0.232 train accuracy: 0.953 validation loss: 0.197 validation accuracy: 0.942\n",
      "epoch 6: train loss: 0.21 train accuracy: 0.95 validation loss: 0.161 validation accuracy: 0.957\n",
      "epoch 7: train loss: 0.155 train accuracy: 0.964 validation loss: 0.172 validation accuracy: 0.957\n",
      "epoch 8: train loss: 0.141 train accuracy: 0.966 validation loss: 0.148 validation accuracy: 0.957\n",
      "epoch 9: train loss: 0.112 train accuracy: 0.976 validation loss: 0.173 validation accuracy: 0.942\n",
      "epoch 10: train loss: 0.1 train accuracy: 0.984 validation loss: 0.118 validation accuracy: 0.957\n",
      "----- fold 5 -----\n",
      "epoch 1: train loss: 0.797 train accuracy: 0.357 validation loss: 0.623 validation accuracy: 0.603\n",
      "epoch 2: train loss: 0.58 train accuracy: 0.722 validation loss: 0.476 validation accuracy: 0.838\n",
      "epoch 3: train loss: 0.445 train accuracy: 0.859 validation loss: 0.357 validation accuracy: 0.912\n",
      "epoch 4: train loss: 0.353 train accuracy: 0.888 validation loss: 0.296 validation accuracy: 0.941\n",
      "epoch 5: train loss: 0.266 train accuracy: 0.94 validation loss: 0.239 validation accuracy: 0.941\n",
      "epoch 6: train loss: 0.217 train accuracy: 0.951 validation loss: 0.203 validation accuracy: 0.971\n",
      "epoch 7: train loss: 0.199 train accuracy: 0.942 validation loss: 0.239 validation accuracy: 0.912\n",
      "epoch 8: train loss: 0.19 train accuracy: 0.937 validation loss: 0.128 validation accuracy: 0.971\n",
      "epoch 9: train loss: 0.142 train accuracy: 0.961 validation loss: 0.157 validation accuracy: 0.956\n",
      "epoch 10: train loss: 0.106 train accuracy: 0.984 validation loss: 0.178 validation accuracy: 0.941\n",
      "----- fold 6 -----\n",
      "epoch 1: train loss: 0.557 train accuracy: 0.729 validation loss: 0.472 validation accuracy: 0.838\n",
      "epoch 2: train loss: 0.423 train accuracy: 0.867 validation loss: 0.403 validation accuracy: 0.853\n",
      "epoch 3: train loss: 0.336 train accuracy: 0.907 validation loss: 0.324 validation accuracy: 0.971\n",
      "epoch 4: train loss: 0.261 train accuracy: 0.956 validation loss: 0.256 validation accuracy: 0.956\n",
      "epoch 5: train loss: 0.233 train accuracy: 0.935 validation loss: 0.207 validation accuracy: 0.971\n",
      "epoch 6: train loss: 0.181 train accuracy: 0.961 validation loss: 0.207 validation accuracy: 0.971\n",
      "epoch 7: train loss: 0.142 train accuracy: 0.977 validation loss: 0.189 validation accuracy: 0.956\n",
      "epoch 8: train loss: 0.123 train accuracy: 0.977 validation loss: 0.153 validation accuracy: 0.956\n",
      "epoch 9: train loss: 0.113 train accuracy: 0.977 validation loss: 0.243 validation accuracy: 0.971\n",
      "epoch 10: train loss: 0.104 train accuracy: 0.979 validation loss: 0.3 validation accuracy: 0.971\n",
      "----- fold 7 -----\n",
      "epoch 1: train loss: 0.633 train accuracy: 0.672 validation loss: 0.56 validation accuracy: 0.794\n",
      "epoch 2: train loss: 0.471 train accuracy: 0.864 validation loss: 0.456 validation accuracy: 0.838\n",
      "epoch 3: train loss: 0.363 train accuracy: 0.912 validation loss: 0.455 validation accuracy: 0.824\n",
      "epoch 4: train loss: 0.286 train accuracy: 0.935 validation loss: 0.302 validation accuracy: 0.882\n",
      "epoch 5: train loss: 0.225 train accuracy: 0.95 validation loss: 0.261 validation accuracy: 0.941\n",
      "epoch 6: train loss: 0.184 train accuracy: 0.958 validation loss: 0.235 validation accuracy: 0.912\n",
      "epoch 7: train loss: 0.162 train accuracy: 0.969 validation loss: 0.21 validation accuracy: 0.926\n",
      "epoch 8: train loss: 0.157 train accuracy: 0.95 validation loss: 0.248 validation accuracy: 0.941\n",
      "epoch 9: train loss: 0.11 train accuracy: 0.977 validation loss: 0.207 validation accuracy: 0.912\n",
      "epoch 10: train loss: 0.113 train accuracy: 0.971 validation loss: 0.143 validation accuracy: 0.956\n",
      "----- fold 8 -----\n",
      "epoch 1: train loss: 0.668 train accuracy: 0.596 validation loss: 0.581 validation accuracy: 0.794\n",
      "epoch 2: train loss: 0.495 train accuracy: 0.862 validation loss: 0.474 validation accuracy: 0.882\n",
      "epoch 3: train loss: 0.405 train accuracy: 0.898 validation loss: 0.38 validation accuracy: 0.897\n",
      "epoch 4: train loss: 0.309 train accuracy: 0.938 validation loss: 0.286 validation accuracy: 0.926\n",
      "epoch 5: train loss: 0.25 train accuracy: 0.948 validation loss: 0.305 validation accuracy: 0.926\n",
      "epoch 6: train loss: 0.205 train accuracy: 0.953 validation loss: 0.271 validation accuracy: 0.912\n",
      "epoch 7: train loss: 0.166 train accuracy: 0.969 validation loss: 0.186 validation accuracy: 0.912\n",
      "epoch 8: train loss: 0.138 train accuracy: 0.971 validation loss: 0.205 validation accuracy: 0.926\n",
      "epoch 9: train loss: 0.124 train accuracy: 0.971 validation loss: 0.22 validation accuracy: 0.926\n",
      "epoch 10: train loss: 0.105 train accuracy: 0.982 validation loss: 0.176 validation accuracy: 0.941\n",
      "----- fold 9 -----\n",
      "epoch 1: train loss: 0.686 train accuracy: 0.511 validation loss: 0.597 validation accuracy: 0.721\n",
      "epoch 2: train loss: 0.519 train accuracy: 0.862 validation loss: 0.482 validation accuracy: 0.882\n",
      "epoch 3: train loss: 0.413 train accuracy: 0.899 validation loss: 0.423 validation accuracy: 0.882\n",
      "epoch 4: train loss: 0.341 train accuracy: 0.919 validation loss: 0.322 validation accuracy: 0.912\n",
      "epoch 5: train loss: 0.289 train accuracy: 0.927 validation loss: 0.309 validation accuracy: 0.912\n",
      "epoch 6: train loss: 0.232 train accuracy: 0.953 validation loss: 0.286 validation accuracy: 0.926\n",
      "epoch 7: train loss: 0.203 train accuracy: 0.94 validation loss: 0.256 validation accuracy: 0.926\n",
      "epoch 8: train loss: 0.155 train accuracy: 0.974 validation loss: 0.226 validation accuracy: 0.912\n",
      "epoch 9: train loss: 0.147 train accuracy: 0.966 validation loss: 0.208 validation accuracy: 0.941\n",
      "epoch 10: train loss: 0.116 train accuracy: 0.981 validation loss: 0.216 validation accuracy: 0.926\n",
      "----- fold 10 -----\n",
      "epoch 1: train loss: 0.707 train accuracy: 0.495 validation loss: 0.582 validation accuracy: 0.794\n",
      "epoch 2: train loss: 0.517 train accuracy: 0.843 validation loss: 0.475 validation accuracy: 0.838\n",
      "epoch 3: train loss: 0.401 train accuracy: 0.904 validation loss: 0.392 validation accuracy: 0.838\n",
      "epoch 4: train loss: 0.311 train accuracy: 0.925 validation loss: 0.347 validation accuracy: 0.853\n",
      "epoch 5: train loss: 0.247 train accuracy: 0.943 validation loss: 0.272 validation accuracy: 0.897\n",
      "epoch 6: train loss: 0.209 train accuracy: 0.95 validation loss: 0.257 validation accuracy: 0.912\n",
      "epoch 7: train loss: 0.164 train accuracy: 0.966 validation loss: 0.239 validation accuracy: 0.897\n",
      "epoch 8: train loss: 0.143 train accuracy: 0.974 validation loss: 0.236 validation accuracy: 0.897\n",
      "epoch 9: train loss: 0.121 train accuracy: 0.972 validation loss: 0.204 validation accuracy: 0.926\n",
      "epoch 10: train loss: 0.111 train accuracy: 0.972 validation loss: 0.195 validation accuracy: 0.941\n"
     ]
    }
   ],
   "source": [
    "from train import MyTraniner\n",
    "\n",
    "trainer = MyTraniner(model=model, batch_size=batch_size, learning_rate=learning_rate, epoch=epoch, kfold=kfold, aug=aug, cuda=cuda)\n",
    "trainer.train()"
   ]
  },
  {
   "cell_type": "code",
   "execution_count": 11,
   "metadata": {},
   "outputs": [
    {
     "name": "stdout",
     "output_type": "stream",
     "text": [
      "epoch 1: train loss: 0.572 train accuracy: 0.763\n",
      "epoch 2: train loss: 0.407 train accuracy: 0.87\n",
      "epoch 3: train loss: 0.294 train accuracy: 0.924\n",
      "epoch 4: train loss: 0.23 train accuracy: 0.933\n",
      "epoch 5: train loss: 0.211 train accuracy: 0.934\n",
      "epoch 6: train loss: 0.16 train accuracy: 0.959\n",
      "epoch 7: train loss: 0.147 train accuracy: 0.958\n",
      "epoch 8: train loss: 0.101 train accuracy: 0.981\n",
      "epoch 9: train loss: 0.096 train accuracy: 0.978\n",
      "epoch 10: train loss: 0.076 train accuracy: 0.985\n"
     ]
    }
   ],
   "source": [
    "from train import MyTraniner\n",
    "\n",
    "trainer = MyTraniner(model=model, batch_size=batch_size, learning_rate=learning_rate, epoch=epoch, kfold=kfold, aug=aug, cuda=cuda)\n",
    "trainer.retrain()"
   ]
  },
  {
   "cell_type": "code",
   "execution_count": 7,
   "metadata": {},
   "outputs": [
    {
     "name": "stdout",
     "output_type": "stream",
     "text": [
      "model --- test loss: 0.2389635556998352 test accuracy: 0.9083333333333333\n"
     ]
    }
   ],
   "source": [
    "from train import MyTraniner\n",
    "\n",
    "trainer = MyTraniner(model=model, batch_size=batch_size, learning_rate=learning_rate, epoch=epoch, kfold=kfold, aug=aug, cuda=cuda)\n",
    "trainer.accuracy()"
   ]
  }
 ],
 "metadata": {
  "kernelspec": {
   "display_name": "Computer_Vision",
   "language": "python",
   "name": "python3"
  },
  "language_info": {
   "codemirror_mode": {
    "name": "ipython",
    "version": 3
   },
   "file_extension": ".py",
   "mimetype": "text/x-python",
   "name": "python",
   "nbconvert_exporter": "python",
   "pygments_lexer": "ipython3",
   "version": "3.9.16"
  },
  "orig_nbformat": 4
 },
 "nbformat": 4,
 "nbformat_minor": 2
}

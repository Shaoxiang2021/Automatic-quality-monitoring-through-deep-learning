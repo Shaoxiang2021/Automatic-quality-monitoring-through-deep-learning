{
 "cells": [
  {
   "cell_type": "code",
   "execution_count": 1,
   "metadata": {},
   "outputs": [],
   "source": [
    "config = {\n",
    "    'model': \"DenseNet161\",\n",
    "    'batch_size': 8,\n",
    "    'learning_rate': 0.000001, # 0.0001, 0.00001, 0.000001, 0.0000001\n",
    "    'epoch': 30,\n",
    "    'kfold': 5,\n",
    "    'aug': False,\n",
    "    'early_stopping': False,\n",
    "    'cuda': True\n",
    "}"
   ]
  },
  {
   "cell_type": "code",
   "execution_count": 2,
   "metadata": {},
   "outputs": [],
   "source": [
    "from train import MyTraniner\n",
    "\n",
    "trainer = MyTraniner(config=config)"
   ]
  },
  {
   "cell_type": "code",
   "execution_count": 3,
   "metadata": {},
   "outputs": [],
   "source": [
    "model_path = r\"C:\\Users\\tsx10\\PythonProjectsJupyter\\TUM\\FP\\trainning_dense161\\weights\\model_DenseNet161_1e-06_8_30_True_False_False.pth\""
   ]
  },
  {
   "cell_type": "code",
   "execution_count": 4,
   "metadata": {},
   "outputs": [
    {
     "name": "stdout",
     "output_type": "stream",
     "text": [
      "model --- test loss: 0.2788556049267451 test accuracy: 0.9166666666666666\n"
     ]
    }
   ],
   "source": [
    "# test dataset\n",
    "\n",
    "evaluation_test, _, _, _, _ = trainer.validation(model_path=model_path)"
   ]
  },
  {
   "cell_type": "code",
   "execution_count": 5,
   "metadata": {},
   "outputs": [
    {
     "name": "stdout",
     "output_type": "stream",
     "text": [
      "model --- test loss: 0.3518696524072112 test accuracy: 0.8622222222222222\n",
      "0.8622222222222222 10 61 1 378\n"
     ]
    }
   ],
   "source": [
    "# brightness 50\n",
    "\n",
    "evaluation_brightness_50, TP, FP, FN, TN = trainer.evaluation(\"test_data.json\", model_path=model_path)\n",
    "print(evaluation_brightness_50, TP, FP, FN, TN)"
   ]
  },
  {
   "cell_type": "code",
   "execution_count": 6,
   "metadata": {},
   "outputs": [
    {
     "name": "stdout",
     "output_type": "stream",
     "text": [
      "model --- test loss: 0.2862590882905136 test accuracy: 0.8948148148148148\n"
     ]
    }
   ],
   "source": [
    "# brightness all level\n",
    "\n",
    "evaluation_all_brightness, _, _, _, _ = trainer.evaluation(\"evaluation_brightness.json\", model_path=model_path)"
   ]
  },
  {
   "cell_type": "code",
   "execution_count": 7,
   "metadata": {},
   "outputs": [
    {
     "name": "stdout",
     "output_type": "stream",
     "text": [
      "model --- test loss: 0.41124193082775984 test accuracy: 0.8066666666666666\n"
     ]
    }
   ],
   "source": [
    "# brightness 30\n",
    "\n",
    "evaluation_brightness_30, _, _, _, _ = trainer.evaluation(\"evaluation_brightness_30.json\", model_path=model_path)"
   ]
  },
  {
   "cell_type": "code",
   "execution_count": 8,
   "metadata": {},
   "outputs": [
    {
     "name": "stdout",
     "output_type": "stream",
     "text": [
      "model --- test loss: 0.251326764819392 test accuracy: 0.9111111111111111\n"
     ]
    }
   ],
   "source": [
    "# brightness 70\n",
    "\n",
    "evaluation_brightness_70, _, _, _, _ = trainer.evaluation(\"evaluation_brightness_70.json\", model_path=model_path)"
   ]
  },
  {
   "cell_type": "code",
   "execution_count": 9,
   "metadata": {},
   "outputs": [
    {
     "name": "stdout",
     "output_type": "stream",
     "text": [
      "model --- test loss: 0.19960215537433038 test accuracy: 0.9666666666666667\n"
     ]
    }
   ],
   "source": [
    "# brightness 100\n",
    "\n",
    "evaluation_brightness_100, _, _, _, _ = trainer.evaluation(\"evaluation_brightness_100.json\", model_path=model_path)"
   ]
  },
  {
   "cell_type": "code",
   "execution_count": 10,
   "metadata": {},
   "outputs": [
    {
     "name": "stdout",
     "output_type": "stream",
     "text": [
      "model --- test loss: 0.32739563134655486 test accuracy: 0.8811111111111111\n"
     ]
    }
   ],
   "source": [
    "# rotation alle level\n",
    "\n",
    "evaluation_all_rotationz, _, _, _, _ = trainer.evaluation(\"evaluation_rotationz.json\", model_path=model_path)"
   ]
  },
  {
   "cell_type": "code",
   "execution_count": 11,
   "metadata": {},
   "outputs": [
    {
     "name": "stdout",
     "output_type": "stream",
     "text": [
      "model --- test loss: 0.3453079833273302 test accuracy: 0.8555555555555555\n"
     ]
    }
   ],
   "source": [
    "# rotation z pi/100\n",
    "\n",
    "evaluation_rotationz_03, _, _, _, _ = trainer.evaluation(\"evaluation_rotationz_03.json\", model_path=model_path)"
   ]
  },
  {
   "cell_type": "code",
   "execution_count": 12,
   "metadata": {},
   "outputs": [
    {
     "name": "stdout",
     "output_type": "stream",
     "text": [
      "model --- test loss: 0.3120687120316321 test accuracy: 0.9066666666666666\n"
     ]
    }
   ],
   "source": [
    "# rotation z pi/50\n",
    "\n",
    "evaluation_rotationz_06, _, _, _, _ = trainer.evaluation(\"evaluation_rotationz_06.json\", model_path=model_path)"
   ]
  },
  {
   "cell_type": "code",
   "execution_count": 13,
   "metadata": {},
   "outputs": [
    {
     "name": "stdout",
     "output_type": "stream",
     "text": [
      "model --- test loss: 0.3511566096230557 test accuracy: 0.8488888888888889\n"
     ]
    }
   ],
   "source": [
    "# rotation x pi/25\n",
    "\n",
    "evaluation_rotationx_13, _, _, _, _ = trainer.evaluation(\"evaluation_rotationx_13.json\", model_path=model_path)"
   ]
  },
  {
   "cell_type": "code",
   "execution_count": 14,
   "metadata": {},
   "outputs": [
    {
     "name": "stdout",
     "output_type": "stream",
     "text": [
      "model --- test loss: 0.22683287882491163 test accuracy: 0.9755555555555555\n"
     ]
    }
   ],
   "source": [
    "# blur \n",
    "\n",
    "evaluation_blur, _, _, _, _ = trainer.evaluation(\"evaluation_blur.json\", model_path=model_path)"
   ]
  },
  {
   "cell_type": "code",
   "execution_count": 15,
   "metadata": {},
   "outputs": [
    {
     "name": "stdout",
     "output_type": "stream",
     "text": [
      "model --- test loss: 0.4662280506209323 test accuracy: 0.7844444444444445\n"
     ]
    }
   ],
   "source": [
    "# combination brightness 30 and rotation x\n",
    "\n",
    "evaluation_combi_b30_rx13, _, _, _, _ = trainer.evaluation(\"evaluation_combi_b30_rx13.json\", model_path=model_path)"
   ]
  },
  {
   "cell_type": "code",
   "execution_count": 16,
   "metadata": {},
   "outputs": [
    {
     "name": "stdout",
     "output_type": "stream",
     "text": [
      "model --- test loss: 0.19500293370270938 test accuracy: 0.9733333333333334\n"
     ]
    }
   ],
   "source": [
    "# combination brightness 100 and rotation z pi/50\n",
    "\n",
    "evaluation_combi_b100_rz50, _, _, _, _ = trainer.evaluation(\"evaluation_combi_b100_rz50.json\", model_path=model_path)"
   ]
  },
  {
   "cell_type": "code",
   "execution_count": 17,
   "metadata": {},
   "outputs": [
    {
     "name": "stdout",
     "output_type": "stream",
     "text": [
      "model --- test loss: 0.2956426145497195 test accuracy: 0.8952530404080031\n"
     ]
    }
   ],
   "source": [
    "# total evaluation data\n",
    "\n",
    "evaluation_all, _, _, _, _ = trainer.evaluation(\"evaluation_all.json\", model_path=model_path)"
   ]
  },
  {
   "cell_type": "code",
   "execution_count": 18,
   "metadata": {},
   "outputs": [
    {
     "name": "stdout",
     "output_type": "stream",
     "text": [
      "Excel file 'Results.xlsx' is created.\n"
     ]
    }
   ],
   "source": [
    "import openpyxl\n",
    "\n",
    "workbook = openpyxl.Workbook()\n",
    "sheet = workbook.active\n",
    "\n",
    "output_result = [TP, FP, FN, TN, evaluation_test, evaluation_brightness_50, evaluation_all_brightness, evaluation_brightness_30, evaluation_brightness_70, evaluation_brightness_100, evaluation_all_rotationz, evaluation_rotationz_03, evaluation_rotationz_06, evaluation_rotationx_13, evaluation_blur, evaluation_combi_b30_rx13, evaluation_combi_b100_rz50, evaluation_all]\n",
    "\n",
    "for index, value in enumerate(output_result, start=1):\n",
    "    sheet.cell(row=index, column=1, value=value)\n",
    "\n",
    "workbook.save('Results.xlsx')\n",
    "print(\"Excel file 'Results.xlsx' is created.\")"
   ]
  }
 ],
 "metadata": {
  "kernelspec": {
   "display_name": "Computer_Vision",
   "language": "python",
   "name": "python3"
  },
  "language_info": {
   "codemirror_mode": {
    "name": "ipython",
    "version": 3
   },
   "file_extension": ".py",
   "mimetype": "text/x-python",
   "name": "python",
   "nbconvert_exporter": "python",
   "pygments_lexer": "ipython3",
   "version": "3.9.16"
  },
  "orig_nbformat": 4
 },
 "nbformat": 4,
 "nbformat_minor": 2
}

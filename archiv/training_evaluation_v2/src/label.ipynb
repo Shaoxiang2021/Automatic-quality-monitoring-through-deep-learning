{
 "cells": [
  {
   "cell_type": "code",
   "execution_count": 115,
   "metadata": {},
   "outputs": [
    {
     "data": {
      "text/plain": [
       "{'1': 1, '2': 1, '3': 1, '4': 1, '5': 1, '6': 1, '7': 1, '8': 1, '9': 1}"
      ]
     },
     "execution_count": 115,
     "metadata": {},
     "output_type": "execute_result"
    }
   ],
   "source": [
    "labels = dict()\n",
    "probe_id = \"WV1mm_1500_2900_9500\"\n",
    "labels[\"1\"] = 1\n",
    "labels[\"2\"] = 1\n",
    "labels[\"3\"] = 1\n",
    "labels[\"4\"] = 1\n",
    "labels[\"5\"] = 1\n",
    "labels[\"6\"] = 1\n",
    "labels[\"7\"] = 1\n",
    "labels[\"8\"] = 1\n",
    "labels[\"9\"] = 1\n",
    "\n",
    "labels"
   ]
  },
  {
   "cell_type": "code",
   "execution_count": 116,
   "metadata": {},
   "outputs": [],
   "source": [
    "import json\n",
    "import os\n",
    "\n",
    "filename = probe_id + \".json\"\n",
    "file_path = os.path.join(\"workspace\", probe_id, filename)\n",
    "\n",
    "with open(file_path, 'w') as json_file:\n",
    "    json.dump(labels, json_file)\n",
    "\n",
    "json_file.close()"
   ]
  }
 ],
 "metadata": {
  "kernelspec": {
   "display_name": "Computer_Vision",
   "language": "python",
   "name": "python3"
  },
  "language_info": {
   "codemirror_mode": {
    "name": "ipython",
    "version": 3
   },
   "file_extension": ".py",
   "mimetype": "text/x-python",
   "name": "python",
   "nbconvert_exporter": "python",
   "pygments_lexer": "ipython3",
   "version": "3.9.16"
  },
  "orig_nbformat": 4
 },
 "nbformat": 4,
 "nbformat_minor": 2
}

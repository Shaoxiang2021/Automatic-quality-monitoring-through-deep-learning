{
 "cells": [
  {
   "cell_type": "code",
   "execution_count": null,
   "metadata": {},
   "outputs": [],
   "source": [
    "# from dataset import preprocess_data\n",
    "\n",
    "# preprocess_data(src_dir=\"../data/raw\", out_dir=\"../data/processed\")"
   ]
  },
  {
   "cell_type": "code",
   "execution_count": 1,
   "metadata": {},
   "outputs": [],
   "source": [
    "# Model with Hpyperparameter\n",
    "\n",
    "\"\"\" best modell with data augumentation parameter\n",
    "self.tr_transform = transforms.Compose([transforms.ToTensor(), \n",
    "                                        transforms.RandomRotation(degrees=5), \n",
    "                                        transforms.ColorJitter(hue=0.15, saturation=0.15, brightness=0.25), \n",
    "                                        transforms.GaussianBlur((7, 7), sigma=(0.1, 0.5)), \n",
    "                                        transforms.Normalize(mean=self.mean, std=self.std)])\n",
    "                                        \"\"\" \n",
    "\n",
    "config = {\n",
    "    'model': \"DenseNet161\",\n",
    "    'batch_size': 8,\n",
    "    'learning_rate': 0.000001, # 0.0001, 0.00001, 0.000001, 0.0000001\n",
    "    'epoch': 30,\n",
    "    'kfold': 5,\n",
    "    'aug': True,\n",
    "    'early_stopping': False,\n",
    "    'cuda': True\n",
    "}"
   ]
  },
  {
   "cell_type": "code",
   "execution_count": 7,
   "metadata": {},
   "outputs": [
    {
     "name": "stdout",
     "output_type": "stream",
     "text": [
      "----- fold 1 -----\n",
      "epoch 1: train loss: 0.683 train accuracy: 0.563 validation loss: 0.671 validation accuracy: 0.587\n"
     ]
    },
    {
     "ename": "KeyboardInterrupt",
     "evalue": "",
     "output_type": "error",
     "traceback": [
      "\u001b[1;31m---------------------------------------------------------------------------\u001b[0m",
      "\u001b[1;31mKeyboardInterrupt\u001b[0m                         Traceback (most recent call last)",
      "Cell \u001b[1;32mIn[7], line 4\u001b[0m\n\u001b[0;32m      1\u001b[0m \u001b[39mfrom\u001b[39;00m \u001b[39mtrain\u001b[39;00m \u001b[39mimport\u001b[39;00m MyTraniner\n\u001b[0;32m      3\u001b[0m trainer \u001b[39m=\u001b[39m MyTraniner(config\u001b[39m=\u001b[39mconfig)\n\u001b[1;32m----> 4\u001b[0m trainer\u001b[39m.\u001b[39;49mk_fold_train()\n",
      "File \u001b[1;32mc:\\Users\\tsx10\\PythonProjectsJupyter\\TUM\\FP\\trainning_dense121\\src\\train.py:282\u001b[0m, in \u001b[0;36mMyTraniner.k_fold_train\u001b[1;34m(self)\u001b[0m\n\u001b[0;32m    278\u001b[0m \u001b[39mself\u001b[39m\u001b[39m.\u001b[39mvalloader \u001b[39m=\u001b[39m DataLoader(dataset\u001b[39m=\u001b[39m\u001b[39mself\u001b[39m\u001b[39m.\u001b[39mtrain_data, batch_size\u001b[39m=\u001b[39m\u001b[39mself\u001b[39m\u001b[39m.\u001b[39mbatch_size, sampler\u001b[39m=\u001b[39mval_sampler, generator\u001b[39m=\u001b[39m\u001b[39mself\u001b[39m\u001b[39m.\u001b[39mseed, num_workers\u001b[39m=\u001b[39m\u001b[39m8\u001b[39m, pin_memory\u001b[39m=\u001b[39m\u001b[39mTrue\u001b[39;00m)\n\u001b[0;32m    280\u001b[0m \u001b[39mfor\u001b[39;00m epoch \u001b[39min\u001b[39;00m \u001b[39mrange\u001b[39m(\u001b[39m1\u001b[39m, \u001b[39mself\u001b[39m\u001b[39m.\u001b[39mepoch\u001b[39m+\u001b[39m\u001b[39m1\u001b[39m):\n\u001b[1;32m--> 282\u001b[0m     train_loss, train_accuracy \u001b[39m=\u001b[39m \u001b[39mself\u001b[39;49m\u001b[39m.\u001b[39;49mtrain_epoch()\n\u001b[0;32m    283\u001b[0m     val_loss, val_accuracy \u001b[39m=\u001b[39m \u001b[39mself\u001b[39m\u001b[39m.\u001b[39mvalidate_epoch()\n\u001b[0;32m    284\u001b[0m     \u001b[39mprint\u001b[39m(\u001b[39m\"\u001b[39m\u001b[39mepoch \u001b[39m\u001b[39m{0}\u001b[39;00m\u001b[39m: train loss: \u001b[39m\u001b[39m{1}\u001b[39;00m\u001b[39m train accuracy: \u001b[39m\u001b[39m{2}\u001b[39;00m\u001b[39m validation loss: \u001b[39m\u001b[39m{3}\u001b[39;00m\u001b[39m validation accuracy: \u001b[39m\u001b[39m{4}\u001b[39;00m\u001b[39m\"\u001b[39m\u001b[39m.\u001b[39mformat(epoch, \u001b[39mround\u001b[39m(train_loss, \u001b[39m3\u001b[39m), \u001b[39mround\u001b[39m(train_accuracy, \u001b[39m3\u001b[39m), \u001b[39mround\u001b[39m(val_loss, \u001b[39m3\u001b[39m), \u001b[39mround\u001b[39m(val_accuracy, \u001b[39m3\u001b[39m)))\n",
      "File \u001b[1;32mc:\\Users\\tsx10\\PythonProjectsJupyter\\TUM\\FP\\trainning_dense121\\src\\train.py:112\u001b[0m, in \u001b[0;36mMyTraniner.train_epoch\u001b[1;34m(self)\u001b[0m\n\u001b[0;32m    110\u001b[0m     outputs \u001b[39m=\u001b[39m \u001b[39mself\u001b[39m\u001b[39m.\u001b[39mmodel(imgs)\n\u001b[0;32m    111\u001b[0m     loss \u001b[39m=\u001b[39m \u001b[39mself\u001b[39m\u001b[39m.\u001b[39mloss_fn(outputs, labels)\n\u001b[1;32m--> 112\u001b[0m     loss\u001b[39m.\u001b[39;49mbackward()\n\u001b[0;32m    113\u001b[0m     \u001b[39mself\u001b[39m\u001b[39m.\u001b[39moptim\u001b[39m.\u001b[39mstep()\n\u001b[0;32m    115\u001b[0m train_loss \u001b[39m+\u001b[39m\u001b[39m=\u001b[39m loss\u001b[39m.\u001b[39mitem()\n",
      "File \u001b[1;32mc:\\Users\\tsx10\\anaconda3\\envs\\Computer_Vision\\lib\\site-packages\\torch\\_tensor.py:487\u001b[0m, in \u001b[0;36mTensor.backward\u001b[1;34m(self, gradient, retain_graph, create_graph, inputs)\u001b[0m\n\u001b[0;32m    477\u001b[0m \u001b[39mif\u001b[39;00m has_torch_function_unary(\u001b[39mself\u001b[39m):\n\u001b[0;32m    478\u001b[0m     \u001b[39mreturn\u001b[39;00m handle_torch_function(\n\u001b[0;32m    479\u001b[0m         Tensor\u001b[39m.\u001b[39mbackward,\n\u001b[0;32m    480\u001b[0m         (\u001b[39mself\u001b[39m,),\n\u001b[1;32m   (...)\u001b[0m\n\u001b[0;32m    485\u001b[0m         inputs\u001b[39m=\u001b[39minputs,\n\u001b[0;32m    486\u001b[0m     )\n\u001b[1;32m--> 487\u001b[0m torch\u001b[39m.\u001b[39;49mautograd\u001b[39m.\u001b[39;49mbackward(\n\u001b[0;32m    488\u001b[0m     \u001b[39mself\u001b[39;49m, gradient, retain_graph, create_graph, inputs\u001b[39m=\u001b[39;49minputs\n\u001b[0;32m    489\u001b[0m )\n",
      "File \u001b[1;32mc:\\Users\\tsx10\\anaconda3\\envs\\Computer_Vision\\lib\\site-packages\\torch\\autograd\\__init__.py:200\u001b[0m, in \u001b[0;36mbackward\u001b[1;34m(tensors, grad_tensors, retain_graph, create_graph, grad_variables, inputs)\u001b[0m\n\u001b[0;32m    195\u001b[0m     retain_graph \u001b[39m=\u001b[39m create_graph\n\u001b[0;32m    197\u001b[0m \u001b[39m# The reason we repeat same the comment below is that\u001b[39;00m\n\u001b[0;32m    198\u001b[0m \u001b[39m# some Python versions print out the first line of a multi-line function\u001b[39;00m\n\u001b[0;32m    199\u001b[0m \u001b[39m# calls in the traceback and some print out the last line\u001b[39;00m\n\u001b[1;32m--> 200\u001b[0m Variable\u001b[39m.\u001b[39;49m_execution_engine\u001b[39m.\u001b[39;49mrun_backward(  \u001b[39m# Calls into the C++ engine to run the backward pass\u001b[39;49;00m\n\u001b[0;32m    201\u001b[0m     tensors, grad_tensors_, retain_graph, create_graph, inputs,\n\u001b[0;32m    202\u001b[0m     allow_unreachable\u001b[39m=\u001b[39;49m\u001b[39mTrue\u001b[39;49;00m, accumulate_grad\u001b[39m=\u001b[39;49m\u001b[39mTrue\u001b[39;49;00m)\n",
      "\u001b[1;31mKeyboardInterrupt\u001b[0m: "
     ]
    }
   ],
   "source": [
    "from train import MyTraniner\n",
    "\n",
    "trainer = MyTraniner(config=config)\n",
    "trainer.k_fold_train()"
   ]
  },
  {
   "cell_type": "code",
   "execution_count": 2,
   "metadata": {},
   "outputs": [
    {
     "name": "stdout",
     "output_type": "stream",
     "text": [
      "Start training ...\n",
      "epoch 1 is completed ...\n",
      "epoch 2 is completed ...\n",
      "epoch 3 is completed ...\n",
      "epoch 4 is completed ...\n",
      "epoch 5 is completed ...\n",
      "epoch 6 is completed ...\n",
      "epoch 7 is completed ...\n",
      "epoch 8 is completed ...\n",
      "epoch 9 is completed ...\n",
      "epoch 10 is completed ...\n",
      "epoch 11 is completed ...\n",
      "epoch 12 is completed ...\n",
      "epoch 13 is completed ...\n",
      "epoch 14 is completed ...\n",
      "epoch 15 is completed ...\n",
      "epoch 16 is completed ...\n",
      "epoch 17 is completed ...\n",
      "epoch 18 is completed ...\n",
      "epoch 19 is completed ...\n",
      "epoch 20 is completed ...\n",
      "epoch 21 is completed ...\n",
      "epoch 22 is completed ...\n",
      "epoch 23 is completed ...\n",
      "epoch 24 is completed ...\n",
      "epoch 25 is completed ...\n",
      "epoch 26 is completed ...\n",
      "epoch 27 is completed ...\n",
      "epoch 28 is completed ...\n",
      "epoch 29 is completed ...\n",
      "epoch 30 is completed ...\n"
     ]
    }
   ],
   "source": [
    "from train import MyTraniner\n",
    "\n",
    "trainer = MyTraniner(config=config)\n",
    "trainer.retrain()"
   ]
  },
  {
   "cell_type": "code",
   "execution_count": 3,
   "metadata": {},
   "outputs": [
    {
     "name": "stdout",
     "output_type": "stream",
     "text": [
      "model --- test loss: 0.2286250462134679 test accuracy: 0.9416666666666667\n"
     ]
    }
   ],
   "source": [
    "from train import MyTraniner\n",
    "\n",
    "trainer = MyTraniner(config=config)\n",
    "trainer.validation()"
   ]
  },
  {
   "cell_type": "code",
   "execution_count": 1,
   "metadata": {},
   "outputs": [],
   "source": [
    "# Model with Hpyperparameter\n",
    "\n",
    "\"\"\" modell without data augumentation\"\"\"\n",
    "\n",
    "config = {\n",
    "    'model': \"DenseNet161\",\n",
    "    'batch_size': 8,\n",
    "    'learning_rate': 0.000001, # 0.0001, 0.00001, 0.000001, 0.0000001\n",
    "    'epoch': 30,\n",
    "    'kfold': 5,\n",
    "    'aug': False,\n",
    "    'early_stopping': False,\n",
    "    'cuda': True\n",
    "}"
   ]
  },
  {
   "cell_type": "code",
   "execution_count": 2,
   "metadata": {},
   "outputs": [
    {
     "name": "stdout",
     "output_type": "stream",
     "text": [
      "Start training ...\n",
      "epoch 1 is completed ...\n",
      "epoch 2 is completed ...\n",
      "epoch 3 is completed ...\n",
      "epoch 4 is completed ...\n",
      "epoch 5 is completed ...\n",
      "epoch 6 is completed ...\n",
      "epoch 7 is completed ...\n",
      "epoch 8 is completed ...\n",
      "epoch 9 is completed ...\n",
      "epoch 10 is completed ...\n",
      "epoch 11 is completed ...\n",
      "epoch 12 is completed ...\n",
      "epoch 13 is completed ...\n",
      "epoch 14 is completed ...\n",
      "epoch 15 is completed ...\n",
      "epoch 16 is completed ...\n",
      "epoch 17 is completed ...\n",
      "epoch 18 is completed ...\n",
      "epoch 19 is completed ...\n",
      "epoch 20 is completed ...\n",
      "epoch 21 is completed ...\n",
      "epoch 22 is completed ...\n",
      "epoch 23 is completed ...\n",
      "epoch 24 is completed ...\n",
      "epoch 25 is completed ...\n",
      "epoch 26 is completed ...\n",
      "epoch 27 is completed ...\n",
      "epoch 28 is completed ...\n",
      "epoch 29 is completed ...\n",
      "epoch 30 is completed ...\n"
     ]
    }
   ],
   "source": [
    "from train import MyTraniner\n",
    "\n",
    "trainer = MyTraniner(config=config)\n",
    "trainer.retrain()"
   ]
  },
  {
   "cell_type": "code",
   "execution_count": 3,
   "metadata": {},
   "outputs": [
    {
     "name": "stdout",
     "output_type": "stream",
     "text": [
      "model --- test loss: 0.2788556049267451 test accuracy: 0.9166666666666666\n"
     ]
    }
   ],
   "source": [
    "from train import MyTraniner\n",
    "\n",
    "trainer = MyTraniner(config=config)\n",
    "trainer.validation()"
   ]
  },
  {
   "cell_type": "code",
   "execution_count": 2,
   "metadata": {},
   "outputs": [],
   "source": [
    "# Model with Hpyperparameter\n",
    "\n",
    "\"\"\" modell with strong data augumentation \n",
    "transforms.GaussianBlur((7, 7), sigma=(0.1, 0.5)) --> sigma=(0.1, 2)\n",
    "\"\"\"\n",
    "\n",
    "config = {\n",
    "    'model': \"DenseNet161\",\n",
    "    'batch_size': 8,\n",
    "    'learning_rate': 0.000001, # 0.0001, 0.00001, 0.000001, 0.0000001\n",
    "    'epoch': 30,\n",
    "    'kfold': 5,\n",
    "    'aug': True,\n",
    "    'early_stopping': False,\n",
    "    'cuda': True\n",
    "}"
   ]
  },
  {
   "cell_type": "code",
   "execution_count": 3,
   "metadata": {},
   "outputs": [
    {
     "name": "stdout",
     "output_type": "stream",
     "text": [
      "Start training ...\n",
      "epoch 1 is completed ...\n",
      "epoch 2 is completed ...\n",
      "epoch 3 is completed ...\n",
      "epoch 4 is completed ...\n",
      "epoch 5 is completed ...\n",
      "epoch 6 is completed ...\n",
      "epoch 7 is completed ...\n",
      "epoch 8 is completed ...\n",
      "epoch 9 is completed ...\n",
      "epoch 10 is completed ...\n",
      "epoch 11 is completed ...\n",
      "epoch 12 is completed ...\n",
      "epoch 13 is completed ...\n",
      "epoch 14 is completed ...\n",
      "epoch 15 is completed ...\n",
      "epoch 16 is completed ...\n",
      "epoch 17 is completed ...\n",
      "epoch 18 is completed ...\n",
      "epoch 19 is completed ...\n",
      "epoch 20 is completed ...\n",
      "epoch 21 is completed ...\n",
      "epoch 22 is completed ...\n",
      "epoch 23 is completed ...\n",
      "epoch 24 is completed ...\n",
      "epoch 25 is completed ...\n",
      "epoch 26 is completed ...\n",
      "epoch 27 is completed ...\n",
      "epoch 28 is completed ...\n",
      "epoch 29 is completed ...\n",
      "epoch 30 is completed ...\n"
     ]
    }
   ],
   "source": [
    "from train import MyTraniner\n",
    "\n",
    "trainer = MyTraniner(config=config)\n",
    "trainer.retrain()"
   ]
  },
  {
   "cell_type": "code",
   "execution_count": 5,
   "metadata": {},
   "outputs": [
    {
     "name": "stdout",
     "output_type": "stream",
     "text": [
      "model --- test loss: 0.2300278122226397 test accuracy: 0.9\n"
     ]
    }
   ],
   "source": [
    "from train import MyTraniner\n",
    "\n",
    "trainer = MyTraniner(config=config)\n",
    "trainer.validation()"
   ]
  }
 ],
 "metadata": {
  "kernelspec": {
   "display_name": "Computer_Vision",
   "language": "python",
   "name": "python3"
  },
  "language_info": {
   "codemirror_mode": {
    "name": "ipython",
    "version": 3
   },
   "file_extension": ".py",
   "mimetype": "text/x-python",
   "name": "python",
   "nbconvert_exporter": "python",
   "pygments_lexer": "ipython3",
   "version": "3.9.16"
  },
  "orig_nbformat": 4
 },
 "nbformat": 4,
 "nbformat_minor": 2
}

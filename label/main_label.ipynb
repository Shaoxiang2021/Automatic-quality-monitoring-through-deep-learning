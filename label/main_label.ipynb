{
 "cells": [
  {
   "cell_type": "code",
   "execution_count": 77,
   "metadata": {},
   "outputs": [
    {
     "data": {
      "text/plain": [
       "{'1': 1,\n",
       " '2': 1,\n",
       " '3': 1,\n",
       " '4': 0,\n",
       " '5': 0,\n",
       " '6': 0,\n",
       " '7': 0,\n",
       " '8': 0,\n",
       " '9': 0,\n",
       " '10': 0,\n",
       " '11': 1,\n",
       " '12': 0,\n",
       " '13': 0,\n",
       " '14': 0,\n",
       " '15': 0,\n",
       " '16': 0,\n",
       " '17': 0,\n",
       " '18': 0}"
      ]
     },
     "execution_count": 77,
     "metadata": {},
     "output_type": "execute_result"
    }
   ],
   "source": [
    "# Labeln für erste Aufnahme\n",
    "\n",
    "labels = dict()\n",
    "probe_id = \"STP_None_None\"\n",
    "labels[\"1\"] = 1\n",
    "labels[\"2\"] = 1\n",
    "labels[\"3\"] = 1\n",
    "labels[\"4\"] = 0\n",
    "labels[\"5\"] = 0\n",
    "labels[\"6\"] = 0\n",
    "labels[\"7\"] = 0\n",
    "labels[\"8\"] = 0\n",
    "labels[\"9\"] = 0\n",
    "labels[\"10\"] = 0\n",
    "labels[\"11\"] = 1\n",
    "labels[\"12\"] = 0\n",
    "labels[\"13\"] = 0\n",
    "labels[\"14\"] = 0\n",
    "labels[\"15\"] = 0\n",
    "labels[\"16\"] = 0\n",
    "labels[\"17\"] = 0\n",
    "labels[\"18\"] = 0\n",
    "\n",
    "labels"
   ]
  },
  {
   "cell_type": "code",
   "execution_count": 78,
   "metadata": {},
   "outputs": [],
   "source": [
    "import json\n",
    "import os\n",
    "\n",
    "filename = probe_id + \".json\"\n",
    "file_path = os.path.join(\"split_images_11.06.23\", probe_id, filename)\n",
    "\n",
    "with open(file_path, 'w') as json_file:\n",
    "    json.dump(labels, json_file)\n",
    "\n",
    "json_file.close()"
   ]
  },
  {
   "cell_type": "code",
   "execution_count": null,
   "metadata": {},
   "outputs": [],
   "source": [
    "# Labeln für zweite Aufnahme\n",
    "\n",
    "labels = dict()\n",
    "probe_id = \"WV1mm_1500_2900_9500\"\n",
    "labels[\"1\"] = 1\n",
    "labels[\"2\"] = 1\n",
    "labels[\"3\"] = 1\n",
    "labels[\"4\"] = 1\n",
    "labels[\"5\"] = 1\n",
    "labels[\"6\"] = 1\n",
    "labels[\"7\"] = 1\n",
    "labels[\"8\"] = 1\n",
    "labels[\"9\"] = 1\n",
    "\n",
    "labels"
   ]
  },
  {
   "cell_type": "code",
   "execution_count": null,
   "metadata": {},
   "outputs": [],
   "source": [
    "import json\n",
    "import os\n",
    "\n",
    "filename = probe_id + \".json\"\n",
    "file_path = os.path.join(\"workspace\", probe_id, filename)\n",
    "\n",
    "with open(file_path, 'w') as json_file:\n",
    "    json.dump(labels, json_file)\n",
    "\n",
    "json_file.close()"
   ]
  },
  {
   "cell_type": "code",
   "execution_count": 45,
   "metadata": {},
   "outputs": [
    {
     "data": {
      "text/plain": [
       "{'1': 1,\n",
       " '2': 1,\n",
       " '3': 1,\n",
       " '4': 1,\n",
       " '5': 1,\n",
       " '6': 1,\n",
       " '7': 1,\n",
       " '8': 1,\n",
       " '9': 1,\n",
       " '10': 1,\n",
       " '11': 1,\n",
       " '12': 1,\n",
       " '13': 1,\n",
       " '14': 1,\n",
       " '15': 1,\n",
       " '16': 1,\n",
       " '17': 1,\n",
       " '18': 1}"
      ]
     },
     "execution_count": 45,
     "metadata": {},
     "output_type": "execute_result"
    }
   ],
   "source": [
    "# Labeln für dritte Aufnahme\n",
    "\n",
    "labels = dict()\n",
    "probe_id = \"Vi_mw_Fase_1_Spat_1_KV06_WZV15_None_None_None\"\n",
    "labels[\"1\"] = 1\n",
    "labels[\"2\"] = 1\n",
    "labels[\"3\"] = 1\n",
    "labels[\"4\"] = 1\n",
    "labels[\"5\"] = 1\n",
    "labels[\"6\"] = 1\n",
    "labels[\"7\"] = 1\n",
    "labels[\"8\"] = 1\n",
    "labels[\"9\"] = 1\n",
    "labels[\"10\"] = 1\n",
    "labels[\"11\"] = 1\n",
    "labels[\"12\"] = 1\n",
    "labels[\"13\"] = 1\n",
    "labels[\"14\"] = 1\n",
    "labels[\"15\"] = 1\n",
    "labels[\"16\"] = 1\n",
    "labels[\"17\"] = 1\n",
    "labels[\"18\"] = 1\n",
    "labels[\"19\"] = 1\n",
    "labels[\"20\"] = 1\n",
    "labels[\"21\"] = 1\n",
    "labels[\"22\"] = 1\n",
    "labels[\"23\"] = 1\n",
    "labels[\"24\"] = 1\n",
    "labels[\"25\"] = 1\n",
    "labels[\"26\"] = 1\n",
    "labels[\"27\"] = 1\n",
    "labels[\"28\"] = 1\n",
    "labels[\"29\"] = 1\n",
    "labels[\"30\"] = 1\n",
    "labels[\"31\"] = 1\n",
    "labels[\"32\"] = 1\n",
    "labels[\"33\"] = 1\n",
    "\n",
    "labels"
   ]
  },
  {
   "cell_type": "code",
   "execution_count": 46,
   "metadata": {},
   "outputs": [],
   "source": [
    "import json\n",
    "import os\n",
    "\n",
    "filename = probe_id + \".json\"\n",
    "file_path = os.path.join(\"workspace\", probe_id, filename)\n",
    "\n",
    "with open(file_path, 'w') as json_file:\n",
    "    json.dump(labels, json_file)\n",
    "\n",
    "json_file.close()"
   ]
  }
 ],
 "metadata": {
  "kernelspec": {
   "display_name": "Computer_Vision",
   "language": "python",
   "name": "python3"
  },
  "language_info": {
   "codemirror_mode": {
    "name": "ipython",
    "version": 3
   },
   "file_extension": ".py",
   "mimetype": "text/x-python",
   "name": "python",
   "nbconvert_exporter": "python",
   "pygments_lexer": "ipython3",
   "version": "3.9.16"
  },
  "orig_nbformat": 4
 },
 "nbformat": 4,
 "nbformat_minor": 2
}

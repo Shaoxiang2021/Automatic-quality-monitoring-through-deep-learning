{
 "cells": [
  {
   "cell_type": "code",
   "execution_count": 3,
   "metadata": {},
   "outputs": [
    {
     "data": {
      "text/plain": [
       "'\"C:\\\\Users\\\\tsx10\\\\OneDrive\\\\桌面\\\\Semesterarbeit\\\\Images\\\\images_07.06.23\\\\5_000_500_4000\\\\07.06.2023_17_39_49_0.43_30_0_0_0_1.jpg\"'"
      ]
     },
     "execution_count": 3,
     "metadata": {},
     "output_type": "execute_result"
    }
   ],
   "source": [
    "image_path = input(\"...\")\n",
    "image_path"
   ]
  },
  {
   "cell_type": "code",
   "execution_count": 5,
   "metadata": {},
   "outputs": [
    {
     "data": {
      "text/plain": [
       "['\"C:',\n",
       " 'Users',\n",
       " 'tsx10',\n",
       " 'OneDrive',\n",
       " '桌面',\n",
       " 'Semesterarbeit',\n",
       " 'Images',\n",
       " 'images_07.06.23',\n",
       " '5_000_500_4000',\n",
       " '07.06.2023_17_39_49_0.43_30_0_0_0_1.jpg\"']"
      ]
     },
     "execution_count": 5,
     "metadata": {},
     "output_type": "execute_result"
    }
   ],
   "source": [
    "path_list = image_path.split('\\\\')\n",
    "path_list"
   ]
  },
  {
   "cell_type": "code",
   "execution_count": 6,
   "metadata": {},
   "outputs": [
    {
     "data": {
      "text/plain": [
       "10"
      ]
     },
     "execution_count": 6,
     "metadata": {},
     "output_type": "execute_result"
    }
   ],
   "source": [
    "len(path_list)"
   ]
  },
  {
   "cell_type": "code",
   "execution_count": 8,
   "metadata": {},
   "outputs": [
    {
     "data": {
      "text/plain": [
       "'07.06.2023_17_39_49_0.43_30_0_0_0_1.jpg\"'"
      ]
     },
     "execution_count": 8,
     "metadata": {},
     "output_type": "execute_result"
    }
   ],
   "source": [
    "path_list[-1]"
   ]
  },
  {
   "cell_type": "code",
   "execution_count": 9,
   "metadata": {},
   "outputs": [
    {
     "data": {
      "text/plain": [
       "'5_000_500_4000'"
      ]
     },
     "execution_count": 9,
     "metadata": {},
     "output_type": "execute_result"
    }
   ],
   "source": [
    "path_list[-2]"
   ]
  },
  {
   "cell_type": "code",
   "execution_count": 1,
   "metadata": {},
   "outputs": [],
   "source": [
    "from label_manager import LabelManager\n",
    "\n",
    "laber = LabelManager()\n",
    "\n",
    "laber.get_image_info(r\"C:\\Users\\tsx10\\PythonProjectsJupyter\\TUM\\FP\\Images\\images_07.06.23\\5_000_500_4000\\07.06.2023_17_39_49_0.43_30_0_0_0_1.jpg\")\n",
    "laber.split_images(r\"C:\\Users\\tsx10\\PythonProjectsJupyter\\TUM\\FP\\Images\\images_07.06.23\\5_000_500_4000\\07.06.2023_17_39_49_0.43_30_0_0_0_1.jpg\")"
   ]
  },
  {
   "cell_type": "code",
   "execution_count": 3,
   "metadata": {},
   "outputs": [
    {
     "data": {
      "text/plain": [
       "'1\\\\3'"
      ]
     },
     "execution_count": 3,
     "metadata": {},
     "output_type": "execute_result"
    }
   ],
   "source": [
    "import os\n",
    "os.path.join(\"1\", \"3\")"
   ]
  },
  {
   "cell_type": "code",
   "execution_count": 1,
   "metadata": {},
   "outputs": [
    {
     "data": {
      "text/plain": [
       "['C:\\\\Users\\\\tsx10\\\\PythonProjectsJupyter\\\\TUM\\\\FP\\\\Images\\\\images_07.06.23\\\\5_000_500_4000\\\\07.06.2023_17_39_49_0.43_30_0_0_0_1.jpg',\n",
       " 'C:\\\\Users\\\\tsx10\\\\PythonProjectsJupyter\\\\TUM\\\\FP\\\\Images\\\\images_07.06.23\\\\5_000_500_4000\\\\07.06.2023_17_39_50_0.45_30_0_0_0_1.jpg',\n",
       " 'C:\\\\Users\\\\tsx10\\\\PythonProjectsJupyter\\\\TUM\\\\FP\\\\Images\\\\images_07.06.23\\\\5_000_500_4000\\\\07.06.2023_17_39_51_0.46_30_0_0_0_1.jpg',\n",
       " 'C:\\\\Users\\\\tsx10\\\\PythonProjectsJupyter\\\\TUM\\\\FP\\\\Images\\\\images_07.06.23\\\\5_000_500_4000\\\\07.06.2023_17_39_52_0.48_30_0_0_0_1.jpg',\n",
       " 'C:\\\\Users\\\\tsx10\\\\PythonProjectsJupyter\\\\TUM\\\\FP\\\\Images\\\\images_07.06.23\\\\5_000_500_4000\\\\07.06.2023_17_39_54_0.49_30_0_0_0_1.jpg',\n",
       " 'C:\\\\Users\\\\tsx10\\\\PythonProjectsJupyter\\\\TUM\\\\FP\\\\Images\\\\images_07.06.23\\\\5_000_500_4000\\\\07.06.2023_17_39_55_0.51_30_0_0_0_1.jpg',\n",
       " 'C:\\\\Users\\\\tsx10\\\\PythonProjectsJupyter\\\\TUM\\\\FP\\\\Images\\\\images_07.06.23\\\\5_000_500_4000\\\\07.06.2023_17_39_57_0.43_30_0_0.03_0_1.jpg',\n",
       " 'C:\\\\Users\\\\tsx10\\\\PythonProjectsJupyter\\\\TUM\\\\FP\\\\Images\\\\images_07.06.23\\\\5_000_500_4000\\\\07.06.2023_17_39_58_0.45_30_0_0.03_0_1.jpg',\n",
       " 'C:\\\\Users\\\\tsx10\\\\PythonProjectsJupyter\\\\TUM\\\\FP\\\\Images\\\\images_07.06.23\\\\5_000_500_4000\\\\07.06.2023_17_40_00_0.46_30_0_0.03_0_1.jpg',\n",
       " 'C:\\\\Users\\\\tsx10\\\\PythonProjectsJupyter\\\\TUM\\\\FP\\\\Images\\\\images_07.06.23\\\\5_000_500_4000\\\\07.06.2023_17_40_01_0.48_30_0_0.03_0_1.jpg',\n",
       " 'C:\\\\Users\\\\tsx10\\\\PythonProjectsJupyter\\\\TUM\\\\FP\\\\Images\\\\images_07.06.23\\\\5_000_500_4000\\\\07.06.2023_17_40_02_0.49_30_0_0.03_0_1.jpg',\n",
       " 'C:\\\\Users\\\\tsx10\\\\PythonProjectsJupyter\\\\TUM\\\\FP\\\\Images\\\\images_07.06.23\\\\5_000_500_4000\\\\07.06.2023_17_40_03_0.51_30_0_0.03_0_1.jpg',\n",
       " 'C:\\\\Users\\\\tsx10\\\\PythonProjectsJupyter\\\\TUM\\\\FP\\\\Images\\\\images_07.06.23\\\\5_000_500_4000\\\\07.06.2023_17_40_06_0.43_30_0_0.06_0_1.jpg',\n",
       " 'C:\\\\Users\\\\tsx10\\\\PythonProjectsJupyter\\\\TUM\\\\FP\\\\Images\\\\images_07.06.23\\\\5_000_500_4000\\\\07.06.2023_17_40_07_0.45_30_0_0.06_0_1.jpg',\n",
       " 'C:\\\\Users\\\\tsx10\\\\PythonProjectsJupyter\\\\TUM\\\\FP\\\\Images\\\\images_07.06.23\\\\5_000_500_4000\\\\07.06.2023_17_40_08_0.46_30_0_0.06_0_1.jpg',\n",
       " 'C:\\\\Users\\\\tsx10\\\\PythonProjectsJupyter\\\\TUM\\\\FP\\\\Images\\\\images_07.06.23\\\\5_000_500_4000\\\\07.06.2023_17_40_09_0.48_30_0_0.06_0_1.jpg',\n",
       " 'C:\\\\Users\\\\tsx10\\\\PythonProjectsJupyter\\\\TUM\\\\FP\\\\Images\\\\images_07.06.23\\\\5_000_500_4000\\\\07.06.2023_17_40_11_0.49_30_0_0.06_0_1.jpg',\n",
       " 'C:\\\\Users\\\\tsx10\\\\PythonProjectsJupyter\\\\TUM\\\\FP\\\\Images\\\\images_07.06.23\\\\5_000_500_4000\\\\07.06.2023_17_40_12_0.51_30_0_0.06_0_1.jpg',\n",
       " 'C:\\\\Users\\\\tsx10\\\\PythonProjectsJupyter\\\\TUM\\\\FP\\\\Images\\\\images_07.06.23\\\\5_000_500_4000\\\\07.06.2023_17_40_15_0.43_30_0.13_0_0_1.jpg',\n",
       " 'C:\\\\Users\\\\tsx10\\\\PythonProjectsJupyter\\\\TUM\\\\FP\\\\Images\\\\images_07.06.23\\\\5_000_500_4000\\\\07.06.2023_17_40_16_0.45_30_0.13_0_0_1.jpg',\n",
       " 'C:\\\\Users\\\\tsx10\\\\PythonProjectsJupyter\\\\TUM\\\\FP\\\\Images\\\\images_07.06.23\\\\5_000_500_4000\\\\07.06.2023_17_40_17_0.46_30_0.13_0_0_1.jpg',\n",
       " 'C:\\\\Users\\\\tsx10\\\\PythonProjectsJupyter\\\\TUM\\\\FP\\\\Images\\\\images_07.06.23\\\\5_000_500_4000\\\\07.06.2023_17_40_18_0.48_30_0.13_0_0_1.jpg',\n",
       " 'C:\\\\Users\\\\tsx10\\\\PythonProjectsJupyter\\\\TUM\\\\FP\\\\Images\\\\images_07.06.23\\\\5_000_500_4000\\\\07.06.2023_17_40_20_0.5_30_0.13_0_0_1.jpg',\n",
       " 'C:\\\\Users\\\\tsx10\\\\PythonProjectsJupyter\\\\TUM\\\\FP\\\\Images\\\\images_07.06.23\\\\5_000_500_4000\\\\07.06.2023_17_40_21_0.51_30_0.13_0_0_1.jpg',\n",
       " 'C:\\\\Users\\\\tsx10\\\\PythonProjectsJupyter\\\\TUM\\\\FP\\\\Images\\\\images_07.06.23\\\\5_000_500_4000\\\\07.06.2023_17_40_38_0.43_50_0_0_0_1.jpg',\n",
       " 'C:\\\\Users\\\\tsx10\\\\PythonProjectsJupyter\\\\TUM\\\\FP\\\\Images\\\\images_07.06.23\\\\5_000_500_4000\\\\07.06.2023_17_40_39_0.45_50_0_0_0_1.jpg',\n",
       " 'C:\\\\Users\\\\tsx10\\\\PythonProjectsJupyter\\\\TUM\\\\FP\\\\Images\\\\images_07.06.23\\\\5_000_500_4000\\\\07.06.2023_17_40_40_0.46_50_0_0_0_1.jpg',\n",
       " 'C:\\\\Users\\\\tsx10\\\\PythonProjectsJupyter\\\\TUM\\\\FP\\\\Images\\\\images_07.06.23\\\\5_000_500_4000\\\\07.06.2023_17_40_41_0.48_50_0_0_0_1.jpg',\n",
       " 'C:\\\\Users\\\\tsx10\\\\PythonProjectsJupyter\\\\TUM\\\\FP\\\\Images\\\\images_07.06.23\\\\5_000_500_4000\\\\07.06.2023_17_40_43_0.49_50_0_0_0_1.jpg',\n",
       " 'C:\\\\Users\\\\tsx10\\\\PythonProjectsJupyter\\\\TUM\\\\FP\\\\Images\\\\images_07.06.23\\\\5_000_500_4000\\\\07.06.2023_17_40_44_0.51_50_0_0_0_1.jpg',\n",
       " 'C:\\\\Users\\\\tsx10\\\\PythonProjectsJupyter\\\\TUM\\\\FP\\\\Images\\\\images_07.06.23\\\\5_000_500_4000\\\\07.06.2023_17_40_46_0.43_50_0_0.03_0_1.jpg',\n",
       " 'C:\\\\Users\\\\tsx10\\\\PythonProjectsJupyter\\\\TUM\\\\FP\\\\Images\\\\images_07.06.23\\\\5_000_500_4000\\\\07.06.2023_17_40_47_0.45_50_0_0.03_0_1.jpg',\n",
       " 'C:\\\\Users\\\\tsx10\\\\PythonProjectsJupyter\\\\TUM\\\\FP\\\\Images\\\\images_07.06.23\\\\5_000_500_4000\\\\07.06.2023_17_40_49_0.46_50_0_0.03_0_1.jpg',\n",
       " 'C:\\\\Users\\\\tsx10\\\\PythonProjectsJupyter\\\\TUM\\\\FP\\\\Images\\\\images_07.06.23\\\\5_000_500_4000\\\\07.06.2023_17_40_50_0.48_50_0_0.03_0_1.jpg',\n",
       " 'C:\\\\Users\\\\tsx10\\\\PythonProjectsJupyter\\\\TUM\\\\FP\\\\Images\\\\images_07.06.23\\\\5_000_500_4000\\\\07.06.2023_17_40_51_0.49_50_0_0.03_0_1.jpg',\n",
       " 'C:\\\\Users\\\\tsx10\\\\PythonProjectsJupyter\\\\TUM\\\\FP\\\\Images\\\\images_07.06.23\\\\5_000_500_4000\\\\07.06.2023_17_40_52_0.51_50_0_0.03_0_1.jpg',\n",
       " 'C:\\\\Users\\\\tsx10\\\\PythonProjectsJupyter\\\\TUM\\\\FP\\\\Images\\\\images_07.06.23\\\\5_000_500_4000\\\\07.06.2023_17_40_55_0.43_50_0_0.06_0_1.jpg',\n",
       " 'C:\\\\Users\\\\tsx10\\\\PythonProjectsJupyter\\\\TUM\\\\FP\\\\Images\\\\images_07.06.23\\\\5_000_500_4000\\\\07.06.2023_17_40_56_0.45_50_0_0.06_0_1.jpg',\n",
       " 'C:\\\\Users\\\\tsx10\\\\PythonProjectsJupyter\\\\TUM\\\\FP\\\\Images\\\\images_07.06.23\\\\5_000_500_4000\\\\07.06.2023_17_40_57_0.46_50_0_0.06_0_1.jpg',\n",
       " 'C:\\\\Users\\\\tsx10\\\\PythonProjectsJupyter\\\\TUM\\\\FP\\\\Images\\\\images_07.06.23\\\\5_000_500_4000\\\\07.06.2023_17_40_58_0.48_50_0_0.06_0_1.jpg',\n",
       " 'C:\\\\Users\\\\tsx10\\\\PythonProjectsJupyter\\\\TUM\\\\FP\\\\Images\\\\images_07.06.23\\\\5_000_500_4000\\\\07.06.2023_17_41_00_0.49_50_0_0.06_0_1.jpg',\n",
       " 'C:\\\\Users\\\\tsx10\\\\PythonProjectsJupyter\\\\TUM\\\\FP\\\\Images\\\\images_07.06.23\\\\5_000_500_4000\\\\07.06.2023_17_41_01_0.51_50_0_0.06_0_1.jpg',\n",
       " 'C:\\\\Users\\\\tsx10\\\\PythonProjectsJupyter\\\\TUM\\\\FP\\\\Images\\\\images_07.06.23\\\\5_000_500_4000\\\\07.06.2023_17_41_04_0.43_50_0.13_0_0_1.jpg',\n",
       " 'C:\\\\Users\\\\tsx10\\\\PythonProjectsJupyter\\\\TUM\\\\FP\\\\Images\\\\images_07.06.23\\\\5_000_500_4000\\\\07.06.2023_17_41_05_0.45_50_0.13_0_0_1.jpg',\n",
       " 'C:\\\\Users\\\\tsx10\\\\PythonProjectsJupyter\\\\TUM\\\\FP\\\\Images\\\\images_07.06.23\\\\5_000_500_4000\\\\07.06.2023_17_41_06_0.46_50_0.13_0_0_1.jpg',\n",
       " 'C:\\\\Users\\\\tsx10\\\\PythonProjectsJupyter\\\\TUM\\\\FP\\\\Images\\\\images_07.06.23\\\\5_000_500_4000\\\\07.06.2023_17_41_07_0.48_50_0.13_0_0_1.jpg',\n",
       " 'C:\\\\Users\\\\tsx10\\\\PythonProjectsJupyter\\\\TUM\\\\FP\\\\Images\\\\images_07.06.23\\\\5_000_500_4000\\\\07.06.2023_17_41_09_0.5_50_0.13_0_0_1.jpg',\n",
       " 'C:\\\\Users\\\\tsx10\\\\PythonProjectsJupyter\\\\TUM\\\\FP\\\\Images\\\\images_07.06.23\\\\5_000_500_4000\\\\07.06.2023_17_41_10_0.51_50_0.13_0_0_1.jpg',\n",
       " 'C:\\\\Users\\\\tsx10\\\\PythonProjectsJupyter\\\\TUM\\\\FP\\\\Images\\\\images_07.06.23\\\\5_000_500_4000\\\\07.06.2023_17_41_23_0.43_50_0_0_1_1.jpg',\n",
       " 'C:\\\\Users\\\\tsx10\\\\PythonProjectsJupyter\\\\TUM\\\\FP\\\\Images\\\\images_07.06.23\\\\5_000_500_4000\\\\07.06.2023_17_41_24_0.45_50_0_0_1_1.jpg',\n",
       " 'C:\\\\Users\\\\tsx10\\\\PythonProjectsJupyter\\\\TUM\\\\FP\\\\Images\\\\images_07.06.23\\\\5_000_500_4000\\\\07.06.2023_17_41_25_0.46_50_0_0_1_1.jpg',\n",
       " 'C:\\\\Users\\\\tsx10\\\\PythonProjectsJupyter\\\\TUM\\\\FP\\\\Images\\\\images_07.06.23\\\\5_000_500_4000\\\\07.06.2023_17_41_26_0.48_50_0_0_1_1.jpg',\n",
       " 'C:\\\\Users\\\\tsx10\\\\PythonProjectsJupyter\\\\TUM\\\\FP\\\\Images\\\\images_07.06.23\\\\5_000_500_4000\\\\07.06.2023_17_41_28_0.49_50_0_0_1_1.jpg',\n",
       " 'C:\\\\Users\\\\tsx10\\\\PythonProjectsJupyter\\\\TUM\\\\FP\\\\Images\\\\images_07.06.23\\\\5_000_500_4000\\\\07.06.2023_17_41_29_0.51_50_0_0_1_1.jpg',\n",
       " 'C:\\\\Users\\\\tsx10\\\\PythonProjectsJupyter\\\\TUM\\\\FP\\\\Images\\\\images_07.06.23\\\\5_000_500_4000\\\\07.06.2023_17_41_53_0.43_70_0_0_0_1.jpg',\n",
       " 'C:\\\\Users\\\\tsx10\\\\PythonProjectsJupyter\\\\TUM\\\\FP\\\\Images\\\\images_07.06.23\\\\5_000_500_4000\\\\07.06.2023_17_41_54_0.45_70_0_0_0_1.jpg',\n",
       " 'C:\\\\Users\\\\tsx10\\\\PythonProjectsJupyter\\\\TUM\\\\FP\\\\Images\\\\images_07.06.23\\\\5_000_500_4000\\\\07.06.2023_17_41_55_0.46_70_0_0_0_1.jpg',\n",
       " 'C:\\\\Users\\\\tsx10\\\\PythonProjectsJupyter\\\\TUM\\\\FP\\\\Images\\\\images_07.06.23\\\\5_000_500_4000\\\\07.06.2023_17_41_57_0.48_70_0_0_0_1.jpg',\n",
       " 'C:\\\\Users\\\\tsx10\\\\PythonProjectsJupyter\\\\TUM\\\\FP\\\\Images\\\\images_07.06.23\\\\5_000_500_4000\\\\07.06.2023_17_41_58_0.49_70_0_0_0_1.jpg',\n",
       " 'C:\\\\Users\\\\tsx10\\\\PythonProjectsJupyter\\\\TUM\\\\FP\\\\Images\\\\images_07.06.23\\\\5_000_500_4000\\\\07.06.2023_17_41_59_0.51_70_0_0_0_1.jpg',\n",
       " 'C:\\\\Users\\\\tsx10\\\\PythonProjectsJupyter\\\\TUM\\\\FP\\\\Images\\\\images_07.06.23\\\\5_000_500_4000\\\\07.06.2023_17_42_01_0.43_70_0_0.03_0_1.jpg',\n",
       " 'C:\\\\Users\\\\tsx10\\\\PythonProjectsJupyter\\\\TUM\\\\FP\\\\Images\\\\images_07.06.23\\\\5_000_500_4000\\\\07.06.2023_17_42_03_0.45_70_0_0.03_0_1.jpg',\n",
       " 'C:\\\\Users\\\\tsx10\\\\PythonProjectsJupyter\\\\TUM\\\\FP\\\\Images\\\\images_07.06.23\\\\5_000_500_4000\\\\07.06.2023_17_42_04_0.46_70_0_0.03_0_1.jpg',\n",
       " 'C:\\\\Users\\\\tsx10\\\\PythonProjectsJupyter\\\\TUM\\\\FP\\\\Images\\\\images_07.06.23\\\\5_000_500_4000\\\\07.06.2023_17_42_05_0.48_70_0_0.03_0_1.jpg',\n",
       " 'C:\\\\Users\\\\tsx10\\\\PythonProjectsJupyter\\\\TUM\\\\FP\\\\Images\\\\images_07.06.23\\\\5_000_500_4000\\\\07.06.2023_17_42_06_0.49_70_0_0.03_0_1.jpg',\n",
       " 'C:\\\\Users\\\\tsx10\\\\PythonProjectsJupyter\\\\TUM\\\\FP\\\\Images\\\\images_07.06.23\\\\5_000_500_4000\\\\07.06.2023_17_42_07_0.51_70_0_0.03_0_1.jpg',\n",
       " 'C:\\\\Users\\\\tsx10\\\\PythonProjectsJupyter\\\\TUM\\\\FP\\\\Images\\\\images_07.06.23\\\\5_000_500_4000\\\\07.06.2023_17_42_10_0.43_70_0_0.06_0_1.jpg',\n",
       " 'C:\\\\Users\\\\tsx10\\\\PythonProjectsJupyter\\\\TUM\\\\FP\\\\Images\\\\images_07.06.23\\\\5_000_500_4000\\\\07.06.2023_17_42_11_0.45_70_0_0.06_0_1.jpg',\n",
       " 'C:\\\\Users\\\\tsx10\\\\PythonProjectsJupyter\\\\TUM\\\\FP\\\\Images\\\\images_07.06.23\\\\5_000_500_4000\\\\07.06.2023_17_42_12_0.46_70_0_0.06_0_1.jpg',\n",
       " 'C:\\\\Users\\\\tsx10\\\\PythonProjectsJupyter\\\\TUM\\\\FP\\\\Images\\\\images_07.06.23\\\\5_000_500_4000\\\\07.06.2023_17_42_14_0.48_70_0_0.06_0_1.jpg',\n",
       " 'C:\\\\Users\\\\tsx10\\\\PythonProjectsJupyter\\\\TUM\\\\FP\\\\Images\\\\images_07.06.23\\\\5_000_500_4000\\\\07.06.2023_17_42_15_0.49_70_0_0.06_0_1.jpg',\n",
       " 'C:\\\\Users\\\\tsx10\\\\PythonProjectsJupyter\\\\TUM\\\\FP\\\\Images\\\\images_07.06.23\\\\5_000_500_4000\\\\07.06.2023_17_42_16_0.51_70_0_0.06_0_1.jpg',\n",
       " 'C:\\\\Users\\\\tsx10\\\\PythonProjectsJupyter\\\\TUM\\\\FP\\\\Images\\\\images_07.06.23\\\\5_000_500_4000\\\\07.06.2023_17_42_19_0.43_70_0.13_0_0_1.jpg',\n",
       " 'C:\\\\Users\\\\tsx10\\\\PythonProjectsJupyter\\\\TUM\\\\FP\\\\Images\\\\images_07.06.23\\\\5_000_500_4000\\\\07.06.2023_17_42_20_0.45_70_0.13_0_0_1.jpg',\n",
       " 'C:\\\\Users\\\\tsx10\\\\PythonProjectsJupyter\\\\TUM\\\\FP\\\\Images\\\\images_07.06.23\\\\5_000_500_4000\\\\07.06.2023_17_42_21_0.46_70_0.13_0_0_1.jpg',\n",
       " 'C:\\\\Users\\\\tsx10\\\\PythonProjectsJupyter\\\\TUM\\\\FP\\\\Images\\\\images_07.06.23\\\\5_000_500_4000\\\\07.06.2023_17_42_23_0.48_70_0.13_0_0_1.jpg',\n",
       " 'C:\\\\Users\\\\tsx10\\\\PythonProjectsJupyter\\\\TUM\\\\FP\\\\Images\\\\images_07.06.23\\\\5_000_500_4000\\\\07.06.2023_17_42_24_0.5_70_0.13_0_0_1.jpg',\n",
       " 'C:\\\\Users\\\\tsx10\\\\PythonProjectsJupyter\\\\TUM\\\\FP\\\\Images\\\\images_07.06.23\\\\5_000_500_4000\\\\07.06.2023_17_42_25_0.51_70_0.13_0_0_1.jpg',\n",
       " 'C:\\\\Users\\\\tsx10\\\\PythonProjectsJupyter\\\\TUM\\\\FP\\\\Images\\\\images_07.06.23\\\\5_000_500_4000\\\\07.06.2023_17_42_40_0.43_100_0_0_0_1.jpg',\n",
       " 'C:\\\\Users\\\\tsx10\\\\PythonProjectsJupyter\\\\TUM\\\\FP\\\\Images\\\\images_07.06.23\\\\5_000_500_4000\\\\07.06.2023_17_42_41_0.45_100_0_0_0_1.jpg',\n",
       " 'C:\\\\Users\\\\tsx10\\\\PythonProjectsJupyter\\\\TUM\\\\FP\\\\Images\\\\images_07.06.23\\\\5_000_500_4000\\\\07.06.2023_17_42_43_0.46_100_0_0_0_1.jpg',\n",
       " 'C:\\\\Users\\\\tsx10\\\\PythonProjectsJupyter\\\\TUM\\\\FP\\\\Images\\\\images_07.06.23\\\\5_000_500_4000\\\\07.06.2023_17_42_44_0.48_100_0_0_0_1.jpg',\n",
       " 'C:\\\\Users\\\\tsx10\\\\PythonProjectsJupyter\\\\TUM\\\\FP\\\\Images\\\\images_07.06.23\\\\5_000_500_4000\\\\07.06.2023_17_42_45_0.49_100_0_0_0_1.jpg',\n",
       " 'C:\\\\Users\\\\tsx10\\\\PythonProjectsJupyter\\\\TUM\\\\FP\\\\Images\\\\images_07.06.23\\\\5_000_500_4000\\\\07.06.2023_17_42_46_0.51_100_0_0_0_1.jpg',\n",
       " 'C:\\\\Users\\\\tsx10\\\\PythonProjectsJupyter\\\\TUM\\\\FP\\\\Images\\\\images_07.06.23\\\\5_000_500_4000\\\\07.06.2023_17_42_49_0.43_100_0_0.03_0_1.jpg',\n",
       " 'C:\\\\Users\\\\tsx10\\\\PythonProjectsJupyter\\\\TUM\\\\FP\\\\Images\\\\images_07.06.23\\\\5_000_500_4000\\\\07.06.2023_17_42_50_0.45_100_0_0.03_0_1.jpg',\n",
       " 'C:\\\\Users\\\\tsx10\\\\PythonProjectsJupyter\\\\TUM\\\\FP\\\\Images\\\\images_07.06.23\\\\5_000_500_4000\\\\07.06.2023_17_42_51_0.46_100_0_0.03_0_1.jpg',\n",
       " 'C:\\\\Users\\\\tsx10\\\\PythonProjectsJupyter\\\\TUM\\\\FP\\\\Images\\\\images_07.06.23\\\\5_000_500_4000\\\\07.06.2023_17_42_52_0.48_100_0_0.03_0_1.jpg',\n",
       " 'C:\\\\Users\\\\tsx10\\\\PythonProjectsJupyter\\\\TUM\\\\FP\\\\Images\\\\images_07.06.23\\\\5_000_500_4000\\\\07.06.2023_17_42_53_0.49_100_0_0.03_0_1.jpg',\n",
       " 'C:\\\\Users\\\\tsx10\\\\PythonProjectsJupyter\\\\TUM\\\\FP\\\\Images\\\\images_07.06.23\\\\5_000_500_4000\\\\07.06.2023_17_42_55_0.51_100_0_0.03_0_1.jpg',\n",
       " 'C:\\\\Users\\\\tsx10\\\\PythonProjectsJupyter\\\\TUM\\\\FP\\\\Images\\\\images_07.06.23\\\\5_000_500_4000\\\\07.06.2023_17_42_57_0.43_100_0_0.06_0_1.jpg',\n",
       " 'C:\\\\Users\\\\tsx10\\\\PythonProjectsJupyter\\\\TUM\\\\FP\\\\Images\\\\images_07.06.23\\\\5_000_500_4000\\\\07.06.2023_17_42_58_0.45_100_0_0.06_0_1.jpg',\n",
       " 'C:\\\\Users\\\\tsx10\\\\PythonProjectsJupyter\\\\TUM\\\\FP\\\\Images\\\\images_07.06.23\\\\5_000_500_4000\\\\07.06.2023_17_42_59_0.46_100_0_0.06_0_1.jpg',\n",
       " 'C:\\\\Users\\\\tsx10\\\\PythonProjectsJupyter\\\\TUM\\\\FP\\\\Images\\\\images_07.06.23\\\\5_000_500_4000\\\\07.06.2023_17_43_01_0.48_100_0_0.06_0_1.jpg',\n",
       " 'C:\\\\Users\\\\tsx10\\\\PythonProjectsJupyter\\\\TUM\\\\FP\\\\Images\\\\images_07.06.23\\\\5_000_500_4000\\\\07.06.2023_17_43_02_0.49_100_0_0.06_0_1.jpg',\n",
       " 'C:\\\\Users\\\\tsx10\\\\PythonProjectsJupyter\\\\TUM\\\\FP\\\\Images\\\\images_07.06.23\\\\5_000_500_4000\\\\07.06.2023_17_43_03_0.51_100_0_0.06_0_1.jpg',\n",
       " 'C:\\\\Users\\\\tsx10\\\\PythonProjectsJupyter\\\\TUM\\\\FP\\\\Images\\\\images_07.06.23\\\\5_000_500_4000\\\\07.06.2023_17_43_06_0.43_100_0.13_0_0_1.jpg',\n",
       " 'C:\\\\Users\\\\tsx10\\\\PythonProjectsJupyter\\\\TUM\\\\FP\\\\Images\\\\images_07.06.23\\\\5_000_500_4000\\\\07.06.2023_17_43_07_0.45_100_0.13_0_0_1.jpg',\n",
       " 'C:\\\\Users\\\\tsx10\\\\PythonProjectsJupyter\\\\TUM\\\\FP\\\\Images\\\\images_07.06.23\\\\5_000_500_4000\\\\07.06.2023_17_43_08_0.46_100_0.13_0_0_1.jpg',\n",
       " 'C:\\\\Users\\\\tsx10\\\\PythonProjectsJupyter\\\\TUM\\\\FP\\\\Images\\\\images_07.06.23\\\\5_000_500_4000\\\\07.06.2023_17_43_10_0.48_100_0.13_0_0_1.jpg',\n",
       " 'C:\\\\Users\\\\tsx10\\\\PythonProjectsJupyter\\\\TUM\\\\FP\\\\Images\\\\images_07.06.23\\\\5_000_500_4000\\\\07.06.2023_17_43_11_0.5_100_0.13_0_0_1.jpg',\n",
       " 'C:\\\\Users\\\\tsx10\\\\PythonProjectsJupyter\\\\TUM\\\\FP\\\\Images\\\\images_07.06.23\\\\5_000_500_4000\\\\07.06.2023_17_43_12_0.51_100_0.13_0_0_1.jpg']"
      ]
     },
     "execution_count": 1,
     "metadata": {},
     "output_type": "execute_result"
    }
   ],
   "source": [
    "from label_manager import LabelManager\n",
    "\n",
    "laber = LabelManager()\n",
    "\n",
    "laber.read_images_path(r\"C:\\Users\\tsx10\\PythonProjectsJupyter\\TUM\\FP\\Images\\images_07.06.23\\5_000_500_4000\")\n",
    "laber.image_paths"
   ]
  },
  {
   "cell_type": "code",
   "execution_count": 2,
   "metadata": {},
   "outputs": [
    {
     "ename": "AttributeError",
     "evalue": "'LabelManager' object has no attribute 'folder_name'",
     "output_type": "error",
     "traceback": [
      "\u001b[1;31m---------------------------------------------------------------------------\u001b[0m",
      "\u001b[1;31mAttributeError\u001b[0m                            Traceback (most recent call last)",
      "Cell \u001b[1;32mIn[2], line 1\u001b[0m\n\u001b[1;32m----> 1\u001b[0m laber\u001b[39m.\u001b[39;49mfolder_name\n",
      "\u001b[1;31mAttributeError\u001b[0m: 'LabelManager' object has no attribute 'folder_name'"
     ]
    }
   ],
   "source": [
    "laber.folder_name"
   ]
  },
  {
   "cell_type": "code",
   "execution_count": 5,
   "metadata": {},
   "outputs": [],
   "source": [
    "laber.split_images(r\"C:\\Users\\tsx10\\PythonProjectsJupyter\\TUM\\FP\\Images\\images_07.06.23\\5_000_500_4000\\07.06.2023_17_39_49_0.43_30_0_0_0_1\")"
   ]
  },
  {
   "cell_type": "code",
   "execution_count": 2,
   "metadata": {},
   "outputs": [],
   "source": [
    "name = r\"C:\\Users\\tsx10\\PythonProjectsJupyter\\TUM\\FP\\Images\\images_07.06.23\\5_000_500_4000\\07.06.2023_17_39_49_0.43_30_0_0_0_1\".split(\"\\\\\")[-1]"
   ]
  },
  {
   "cell_type": "code",
   "execution_count": 3,
   "metadata": {},
   "outputs": [
    {
     "data": {
      "text/plain": [
       "['07.06.2023', '17', '39', '49', '0.43', '30', '0', '0', '0', '1']"
      ]
     },
     "execution_count": 3,
     "metadata": {},
     "output_type": "execute_result"
    }
   ],
   "source": [
    "l = name.split('_')\n",
    "l"
   ]
  },
  {
   "cell_type": "code",
   "execution_count": 4,
   "metadata": {},
   "outputs": [],
   "source": [
    "_, _, _, _, x, b, ax, az, bl, _ = l"
   ]
  },
  {
   "cell_type": "code",
   "execution_count": 6,
   "metadata": {},
   "outputs": [
    {
     "data": {
      "text/plain": [
       "'30_0_0_0'"
      ]
     },
     "execution_count": 6,
     "metadata": {},
     "output_type": "execute_result"
    }
   ],
   "source": [
    "\"_\".join([b, ax, az, bl])"
   ]
  },
  {
   "cell_type": "code",
   "execution_count": 1,
   "metadata": {},
   "outputs": [],
   "source": [
    "from label_manager import LabelManager\n",
    "\n",
    "labelManager = LabelManager()\n",
    "labelManager.split_images(r\"C:\\Users\\tsx10\\PythonProjectsJupyter\\TUM\\FP\\Images\\images_07.06.23\\5_000_500_4000\")"
   ]
  },
  {
   "cell_type": "code",
   "execution_count": 6,
   "metadata": {},
   "outputs": [],
   "source": [
    "import json\n",
    "\n",
    "dict1 = {\n",
    "    \"name\": \"John\",\n",
    "    \"age\": 30,\n",
    "    \"city\": \"New York\"\n",
    "}\n",
    "\n",
    "dict2 = {\n",
    "    \"name\": \"Jane\",\n",
    "    \"age\": 25,\n",
    "    \"city\": \"London\"\n",
    "}\n",
    "\n",
    "file_path = \"data.json\"\n",
    "\n",
    "with open(file_path, 'a') as json_file:\n",
    "    json_str1 = json.dumps(dict1)\n",
    "    json_str2 = json.dumps(dict2)\n",
    "    \n",
    "    json_file.write(json_str1 + '\\n')\n",
    "    json_file.write(json_str2 + '\\n')\n",
    "\n",
    "json_file.close()\n"
   ]
  }
 ],
 "metadata": {
  "kernelspec": {
   "display_name": "Computer_Vision",
   "language": "python",
   "name": "python3"
  },
  "language_info": {
   "codemirror_mode": {
    "name": "ipython",
    "version": 3
   },
   "file_extension": ".py",
   "mimetype": "text/x-python",
   "name": "python",
   "nbconvert_exporter": "python",
   "pygments_lexer": "ipython3",
   "version": "3.9.16"
  },
  "orig_nbformat": 4
 },
 "nbformat": 4,
 "nbformat_minor": 2
}

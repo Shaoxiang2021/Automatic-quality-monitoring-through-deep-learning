{
 "cells": [
  {
   "cell_type": "code",
   "execution_count": 1,
   "metadata": {},
   "outputs": [],
   "source": [
    "config = {\n",
    "    'model': \"DenseNet161\",\n",
    "    'batch_size': 8,\n",
    "    'learning_rate': 0.000001, # 0.0001, 0.00001, 0.000001, 0.0000001\n",
    "    'epoch': 30,\n",
    "    'kfold': False,\n",
    "    'aug': True,\n",
    "    'early_stopping': False,\n",
    "    'cuda': True\n",
    "}"
   ]
  },
  {
   "cell_type": "code",
   "execution_count": 2,
   "metadata": {},
   "outputs": [],
   "source": [
    "from train import MyTraniner\n",
    "\n",
    "trainer = MyTraniner(config=config)"
   ]
  },
  {
   "cell_type": "code",
   "execution_count": 3,
   "metadata": {},
   "outputs": [],
   "source": [
    "model_path = r\"C:\\Users\\tsx10\\PythonProjectsJupyter\\TUM\\FP\\trainning_dense121\\weights\\model_DenseNet161_1e-06_8_30_True_True_False_10.pth\""
   ]
  },
  {
   "cell_type": "code",
   "execution_count": 4,
   "metadata": {},
   "outputs": [
    {
     "name": "stdout",
     "output_type": "stream",
     "text": [
      "model --- test loss: 0.24163061032692593 test accuracy: 0.9\n",
      "0.9 19 4 8 89\n"
     ]
    }
   ],
   "source": [
    "# test dataset\n",
    "\n",
    "evaluation_test, TP, FP, FN, TN = trainer.validation(model_path=model_path)\n",
    "print(evaluation_test, TP, FP, FN, TN)"
   ]
  },
  {
   "cell_type": "code",
   "execution_count": 5,
   "metadata": {},
   "outputs": [
    {
     "name": "stdout",
     "output_type": "stream",
     "text": [
      "model --- test loss: 0.26732310177585866 test accuracy: 0.9006968641114983\n"
     ]
    }
   ],
   "source": [
    "# brightness all level\n",
    "\n",
    "evaluation_all_brightness, _, _, _, _ = trainer.evaluation(\"evaluation_brightness.json\", model_path=model_path)"
   ]
  },
  {
   "cell_type": "code",
   "execution_count": 6,
   "metadata": {},
   "outputs": [
    {
     "name": "stdout",
     "output_type": "stream",
     "text": [
      "model --- test loss: 0.27036787041773397 test accuracy: 0.9210526315789473\n"
     ]
    }
   ],
   "source": [
    "# brightness 30\n",
    "\n",
    "evaluation_brightness_30, _, _, _, _ = trainer.evaluation(\"evaluation_brightness_30.json\", model_path=model_path)"
   ]
  },
  {
   "cell_type": "code",
   "execution_count": 7,
   "metadata": {},
   "outputs": [
    {
     "name": "stdout",
     "output_type": "stream",
     "text": [
      "model --- test loss: 0.2509340898185555 test accuracy: 0.90625\n"
     ]
    }
   ],
   "source": [
    "# brightness 70\n",
    "\n",
    "evaluation_brightness_70, _, _, _, _ = trainer.evaluation(\"evaluation_brightness_70.json\", model_path=model_path)"
   ]
  },
  {
   "cell_type": "code",
   "execution_count": 8,
   "metadata": {},
   "outputs": [
    {
     "name": "stdout",
     "output_type": "stream",
     "text": [
      "model --- test loss: 0.2806673454793377 test accuracy: 0.875\n"
     ]
    }
   ],
   "source": [
    "# brightness 100\n",
    "\n",
    "evaluation_brightness_100, _, _, _, _ = trainer.evaluation(\"evaluation_brightness_100.json\", model_path=model_path)"
   ]
  },
  {
   "cell_type": "code",
   "execution_count": 9,
   "metadata": {},
   "outputs": [
    {
     "name": "stdout",
     "output_type": "stream",
     "text": [
      "model --- test loss: 0.2824397253441728 test accuracy: 0.8888888888888888\n"
     ]
    }
   ],
   "source": [
    "# rotation alle level\n",
    "\n",
    "evaluation_all_rotationz, _, _, _, _ = trainer.evaluation(\"evaluation_rotationz.json\", model_path=model_path)"
   ]
  },
  {
   "cell_type": "code",
   "execution_count": 10,
   "metadata": {},
   "outputs": [
    {
     "name": "stdout",
     "output_type": "stream",
     "text": [
      "model --- test loss: 0.27718078438192606 test accuracy: 0.9010416666666666\n"
     ]
    }
   ],
   "source": [
    "# rotation z pi/100\n",
    "\n",
    "evaluation_rotationz_03, _, _, _, _ = trainer.evaluation(\"evaluation_rotationz_03.json\", model_path=model_path)"
   ]
  },
  {
   "cell_type": "code",
   "execution_count": 11,
   "metadata": {},
   "outputs": [
    {
     "name": "stdout",
     "output_type": "stream",
     "text": [
      "model --- test loss: 0.28769866697904134 test accuracy: 0.8767361111111112\n"
     ]
    }
   ],
   "source": [
    "# rotation z pi/50\n",
    "\n",
    "evaluation_rotationz_06, _, _, _, _ = trainer.evaluation(\"evaluation_rotationz_06.json\", model_path=model_path)"
   ]
  },
  {
   "cell_type": "code",
   "execution_count": 12,
   "metadata": {},
   "outputs": [
    {
     "name": "stdout",
     "output_type": "stream",
     "text": [
      "model --- test loss: 0.25400056607193416 test accuracy: 0.9201388888888888\n"
     ]
    }
   ],
   "source": [
    "# rotation x pi/25\n",
    "\n",
    "evaluation_rotationx_13, _, _, _, _ = trainer.evaluation(\"evaluation_rotationx_13.json\", model_path=model_path)"
   ]
  },
  {
   "cell_type": "code",
   "execution_count": 13,
   "metadata": {},
   "outputs": [
    {
     "name": "stdout",
     "output_type": "stream",
     "text": [
      "model --- test loss: 0.3887570559875005 test accuracy: 0.7690972222222222\n"
     ]
    }
   ],
   "source": [
    "# blur \n",
    "\n",
    "evaluation_blur, _, _, _, _ = trainer.evaluation(\"evaluation_blur.json\", model_path=model_path)"
   ]
  },
  {
   "cell_type": "code",
   "execution_count": 14,
   "metadata": {},
   "outputs": [
    {
     "name": "stdout",
     "output_type": "stream",
     "text": [
      "model --- test loss: 0.2869321933637063 test accuracy: 0.9270833333333334\n"
     ]
    }
   ],
   "source": [
    "# combination brightness 30 and rotation x\n",
    "\n",
    "evaluation_combi_b30_rx13, _, _, _, _ = trainer.evaluation(\"evaluation_combi_b30_rx13.json\", model_path=model_path)"
   ]
  },
  {
   "cell_type": "code",
   "execution_count": 15,
   "metadata": {},
   "outputs": [
    {
     "name": "stdout",
     "output_type": "stream",
     "text": [
      "model --- test loss: 0.3326114599023842 test accuracy: 0.8307155322862129\n"
     ]
    }
   ],
   "source": [
    "# combination brightness 100 and rotation z pi/50\n",
    "\n",
    "evaluation_combi_b100_rz50, _, _, _, _ = trainer.evaluation(\"evaluation_combi_b100_rz50.json\", model_path=model_path)"
   ]
  },
  {
   "cell_type": "code",
   "execution_count": 16,
   "metadata": {},
   "outputs": [
    {
     "name": "stdout",
     "output_type": "stream",
     "text": [
      "model --- test loss: 0.29141118803541366 test accuracy: 0.8800912349299446\n"
     ]
    }
   ],
   "source": [
    "# total evaluation data\n",
    "\n",
    "evaluation_all, TP_, FP_, FN_, TN_ = trainer.evaluation(\"evaluation_all.json\", model_path=model_path)"
   ]
  },
  {
   "cell_type": "code",
   "execution_count": 17,
   "metadata": {},
   "outputs": [
    {
     "name": "stdout",
     "output_type": "stream",
     "text": [
      "Excel file 'Results.xlsx' is created.\n"
     ]
    }
   ],
   "source": [
    "import openpyxl\n",
    "\n",
    "workbook = openpyxl.Workbook()\n",
    "sheet = workbook.active\n",
    "\n",
    "output_result = [TP, FP, FN, TN, evaluation_test,  evaluation_all_brightness, evaluation_brightness_30, evaluation_brightness_70, evaluation_brightness_100, evaluation_all_rotationz, evaluation_rotationz_03, evaluation_rotationz_06, evaluation_rotationx_13, evaluation_blur, evaluation_combi_b30_rx13, evaluation_combi_b100_rz50, evaluation_all, TP_, FP_, FN_, TN_]\n",
    "\n",
    "for index, value in enumerate(output_result, start=1):\n",
    "    sheet.cell(row=index, column=1, value=value)\n",
    "\n",
    "workbook.save('Results.xlsx')\n",
    "print(\"Excel file 'Results.xlsx' is created.\")"
   ]
  }
 ],
 "metadata": {
  "kernelspec": {
   "display_name": "Computer_Vision",
   "language": "python",
   "name": "python3"
  },
  "language_info": {
   "codemirror_mode": {
    "name": "ipython",
    "version": 3
   },
   "file_extension": ".py",
   "mimetype": "text/x-python",
   "name": "python",
   "nbconvert_exporter": "python",
   "pygments_lexer": "ipython3",
   "version": "3.9.16"
  },
  "orig_nbformat": 4
 },
 "nbformat": 4,
 "nbformat_minor": 2
}

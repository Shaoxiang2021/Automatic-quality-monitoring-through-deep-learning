{
 "cells": [
  {
   "cell_type": "code",
   "execution_count": 1,
   "metadata": {},
   "outputs": [],
   "source": [
    "from dataset import split_evaluation_dataset, preprocess_evaluation_data, making_evaluation_json "
   ]
  },
  {
   "cell_type": "code",
   "execution_count": null,
   "metadata": {},
   "outputs": [],
   "source": [
    "split_evaluation_dataset(r\"C:\\Users\\tsx10\\PythonProjectsJupyter\\TUM\\FP\\Images\\split_images_11.06.23\", r\"C:\\Users\\tsx10\\PythonProjectsJupyter\\TUM\\FP\\trainning_dense121\\data\\raw\\evaluation\")"
   ]
  },
  {
   "cell_type": "code",
   "execution_count": 2,
   "metadata": {},
   "outputs": [
    {
     "name": "stdout",
     "output_type": "stream",
     "text": [
      "processing 0\n",
      "processing 1\n"
     ]
    }
   ],
   "source": [
    "preprocess_evaluation_data(r\"C:\\Users\\tsx10\\PythonProjectsJupyter\\TUM\\FP\\trainning_dense121\\data\\raw\\evaluation\", r\"C:\\Users\\tsx10\\PythonProjectsJupyter\\TUM\\FP\\trainning_dense121\\data\\processed\\evaluation\")"
   ]
  },
  {
   "cell_type": "code",
   "execution_count": 3,
   "metadata": {},
   "outputs": [
    {
     "name": "stdout",
     "output_type": "stream",
     "text": [
      "processing 0\n",
      "processing 1\n"
     ]
    }
   ],
   "source": [
    "# brightness\n",
    "\n",
    "# all level\n",
    "making_evaluation_json(r\"C:\\Users\\tsx10\\PythonProjectsJupyter\\TUM\\FP\\trainning_dense121\\data\\processed\\evaluation\", r\"C:\\Users\\tsx10\\PythonProjectsJupyter\\TUM\\FP\\trainning_dense121\\data\\processed\", [1, 10, 14], \"evaluation_brightness\")\n",
    "\n",
    "# single level\n",
    "making_evaluation_json(r\"C:\\Users\\tsx10\\PythonProjectsJupyter\\TUM\\FP\\trainning_dense121\\data\\processed\\evaluation\", r\"C:\\Users\\tsx10\\PythonProjectsJupyter\\TUM\\FP\\trainning_dense121\\data\\processed\", [1], \"evaluation_brightness_30\")\n",
    "making_evaluation_json(r\"C:\\Users\\tsx10\\PythonProjectsJupyter\\TUM\\FP\\trainning_dense121\\data\\processed\\evaluation\", r\"C:\\Users\\tsx10\\PythonProjectsJupyter\\TUM\\FP\\trainning_dense121\\data\\processed\", [10], \"evaluation_brightness_70\")\n",
    "making_evaluation_json(r\"C:\\Users\\tsx10\\PythonProjectsJupyter\\TUM\\FP\\trainning_dense121\\data\\processed\\evaluation\", r\"C:\\Users\\tsx10\\PythonProjectsJupyter\\TUM\\FP\\trainning_dense121\\data\\processed\", [14], \"evaluation_brightness_100\")"
   ]
  },
  {
   "cell_type": "code",
   "execution_count": 5,
   "metadata": {},
   "outputs": [
    {
     "name": "stdout",
     "output_type": "stream",
     "text": [
      "processing 0\n",
      "processing 1\n",
      "processing 0\n",
      "processing 1\n",
      "processing 0\n",
      "processing 1\n"
     ]
    }
   ],
   "source": [
    "# rotation z, brightness 50\n",
    "\n",
    "# all level\n",
    "making_evaluation_json(r\"C:\\Users\\tsx10\\PythonProjectsJupyter\\TUM\\FP\\trainning_dense121\\data\\processed\\evaluation\", r\"C:\\Users\\tsx10\\PythonProjectsJupyter\\TUM\\FP\\trainning_dense121\\data\\processed\", [6, 7], \"evaluation_rotationz\")\n",
    "\n",
    "# single level\n",
    "making_evaluation_json(r\"C:\\Users\\tsx10\\PythonProjectsJupyter\\TUM\\FP\\trainning_dense121\\data\\processed\\evaluation\", r\"C:\\Users\\tsx10\\PythonProjectsJupyter\\TUM\\FP\\trainning_dense121\\data\\processed\", [6], \"evaluation_rotationz_03\")\n",
    "making_evaluation_json(r\"C:\\Users\\tsx10\\PythonProjectsJupyter\\TUM\\FP\\trainning_dense121\\data\\processed\\evaluation\", r\"C:\\Users\\tsx10\\PythonProjectsJupyter\\TUM\\FP\\trainning_dense121\\data\\processed\", [7], \"evaluation_rotationz_06\")"
   ]
  },
  {
   "cell_type": "code",
   "execution_count": 6,
   "metadata": {},
   "outputs": [
    {
     "name": "stdout",
     "output_type": "stream",
     "text": [
      "processing 0\n",
      "processing 1\n"
     ]
    }
   ],
   "source": [
    "# rotation x, brightness 50\n",
    "\n",
    "making_evaluation_json(r\"C:\\Users\\tsx10\\PythonProjectsJupyter\\TUM\\FP\\trainning_dense121\\data\\processed\\evaluation\", r\"C:\\Users\\tsx10\\PythonProjectsJupyter\\TUM\\FP\\trainning_dense121\\data\\processed\", [8], \"evaluation_rotationx_13\")"
   ]
  },
  {
   "cell_type": "code",
   "execution_count": 7,
   "metadata": {},
   "outputs": [
    {
     "name": "stdout",
     "output_type": "stream",
     "text": [
      "processing 0\n",
      "processing 1\n"
     ]
    }
   ],
   "source": [
    "# blur, brightness 50\n",
    "\n",
    "making_evaluation_json(r\"C:\\Users\\tsx10\\PythonProjectsJupyter\\TUM\\FP\\trainning_dense121\\data\\processed\\evaluation\", r\"C:\\Users\\tsx10\\PythonProjectsJupyter\\TUM\\FP\\trainning_dense121\\data\\processed\", [9], \"evaluation_blur\")"
   ]
  },
  {
   "cell_type": "code",
   "execution_count": 10,
   "metadata": {},
   "outputs": [
    {
     "name": "stdout",
     "output_type": "stream",
     "text": [
      "processing 0\n",
      "processing 1\n"
     ]
    }
   ],
   "source": [
    "# combination brightness 100 and rotation z pi/50\n",
    "\n",
    "making_evaluation_json(r\"C:\\Users\\tsx10\\PythonProjectsJupyter\\TUM\\FP\\trainning_dense121\\data\\processed\\evaluation\", r\"C:\\Users\\tsx10\\PythonProjectsJupyter\\TUM\\FP\\trainning_dense121\\data\\processed\", [16], \"evaluation_combi_b100_rz50\")"
   ]
  },
  {
   "cell_type": "code",
   "execution_count": 9,
   "metadata": {},
   "outputs": [
    {
     "name": "stdout",
     "output_type": "stream",
     "text": [
      "processing 0\n",
      "processing 1\n"
     ]
    }
   ],
   "source": [
    "# combination brightness 30 and rotation x\n",
    "\n",
    "making_evaluation_json(r\"C:\\Users\\tsx10\\PythonProjectsJupyter\\TUM\\FP\\trainning_dense121\\data\\processed\\evaluation\", r\"C:\\Users\\tsx10\\PythonProjectsJupyter\\TUM\\FP\\trainning_dense121\\data\\processed\", [4], \"evaluation_combi_b30_rx13\")"
   ]
  },
  {
   "cell_type": "code",
   "execution_count": 7,
   "metadata": {},
   "outputs": [
    {
     "name": "stdout",
     "output_type": "stream",
     "text": [
      "processing 0\n",
      "processing 1\n"
     ]
    }
   ],
   "source": [
    "# all evaluation data\n",
    "\n",
    "making_evaluation_json(r\"C:\\Users\\tsx10\\PythonProjectsJupyter\\TUM\\FP\\trainning_dense121\\data\\processed\\evaluation\", r\"C:\\Users\\tsx10\\PythonProjectsJupyter\\TUM\\FP\\trainning_dense121\\data\\processed\", [_ for _ in range(1, 18)], \"evaluation_all\")"
   ]
  }
 ],
 "metadata": {
  "kernelspec": {
   "display_name": "Computer_Vision",
   "language": "python",
   "name": "python3"
  },
  "language_info": {
   "codemirror_mode": {
    "name": "ipython",
    "version": 3
   },
   "file_extension": ".py",
   "mimetype": "text/x-python",
   "name": "python",
   "nbconvert_exporter": "python",
   "pygments_lexer": "ipython3",
   "version": "3.9.16"
  },
  "orig_nbformat": 4
 },
 "nbformat": 4,
 "nbformat_minor": 2
}

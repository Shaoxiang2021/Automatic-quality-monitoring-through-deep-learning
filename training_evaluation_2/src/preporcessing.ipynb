{
 "cells": [
  {
   "cell_type": "code",
   "execution_count": 5,
   "metadata": {},
   "outputs": [],
   "source": [
    "from label_manager import LabelManager\n",
    "import os"
   ]
  },
  {
   "cell_type": "code",
   "execution_count": 5,
   "metadata": {},
   "outputs": [
    {
     "name": "stdout",
     "output_type": "stream",
     "text": [
      "C:\\Users\\tsx10\\PythonProjectsJupyter\\TUM\\FP\\Images\\images_22_06_23\\KV0.2mm(V001)_1500_2900_9500is completed ...\n",
      "C:\\Users\\tsx10\\PythonProjectsJupyter\\TUM\\FP\\Images\\images_22_06_23\\KV0.4mm(V002)_1500_2900_9500is completed ...\n",
      "C:\\Users\\tsx10\\PythonProjectsJupyter\\TUM\\FP\\Images\\images_22_06_23\\KV0.5mm(V003)_1500_2900_9500is completed ...\n",
      "C:\\Users\\tsx10\\PythonProjectsJupyter\\TUM\\FP\\Images\\images_22_06_23\\KV0.6mm(V004)_1500_2900_9500is completed ...\n",
      "C:\\Users\\tsx10\\PythonProjectsJupyter\\TUM\\FP\\Images\\images_22_06_23\\KV0.7mm(V005)_1500_2900_9500is completed ...\n",
      "C:\\Users\\tsx10\\PythonProjectsJupyter\\TUM\\FP\\Images\\images_22_06_23\\KV0.8mm(V006)_1500_2900_9500is completed ...\n",
      "C:\\Users\\tsx10\\PythonProjectsJupyter\\TUM\\FP\\Images\\images_22_06_23\\KV0.9mm(V007)_1500_2900_9500is completed ...\n",
      "C:\\Users\\tsx10\\PythonProjectsJupyter\\TUM\\FP\\Images\\images_22_06_23\\KV1.0mm(V008)_1500_2900_9500is completed ...\n",
      "C:\\Users\\tsx10\\PythonProjectsJupyter\\TUM\\FP\\Images\\images_22_06_23\\None_1500_2900_9500is completed ...\n",
      "C:\\Users\\tsx10\\PythonProjectsJupyter\\TUM\\FP\\Images\\images_22_06_23\\OFFset0.2mm_WV0.2mm_1500_2900_9500is completed ...\n",
      "C:\\Users\\tsx10\\PythonProjectsJupyter\\TUM\\FP\\Images\\images_22_06_23\\OFFset0.2mm_WV0.2mm_Vi_LC_1500_2900_9500is completed ...\n",
      "C:\\Users\\tsx10\\PythonProjectsJupyter\\TUM\\FP\\Images\\images_22_06_23\\OFFset0.4mm_WV0.4mm_1500_2900_9500is completed ...\n",
      "C:\\Users\\tsx10\\PythonProjectsJupyter\\TUM\\FP\\Images\\images_22_06_23\\OFFset0.4mm_WV0.4mm_Vi_LC_1500_2900_9500is completed ...\n",
      "C:\\Users\\tsx10\\PythonProjectsJupyter\\TUM\\FP\\Images\\images_22_06_23\\OFFset0.6mm_WV0.6mm_1500_2900_9500is completed ...\n",
      "C:\\Users\\tsx10\\PythonProjectsJupyter\\TUM\\FP\\Images\\images_22_06_23\\OFFset0.6mm_WV0.6mm_Vi_LC_1500_2900_9500is completed ...\n",
      "C:\\Users\\tsx10\\PythonProjectsJupyter\\TUM\\FP\\Images\\images_22_06_23\\OFFset0.8mm_WV0.8mm_1500_2900_9500is completed ...\n",
      "C:\\Users\\tsx10\\PythonProjectsJupyter\\TUM\\FP\\Images\\images_22_06_23\\OFFset0.8mm_WV0.8mm_Vi_LC_1500_2900_9500is completed ...\n",
      "C:\\Users\\tsx10\\PythonProjectsJupyter\\TUM\\FP\\Images\\images_22_06_23\\OFFset0mm_WV0mm_1500_2900_9500is completed ...\n",
      "C:\\Users\\tsx10\\PythonProjectsJupyter\\TUM\\FP\\Images\\images_22_06_23\\OFFset1.0mm_WV1.0mm_Vi_LC_1500_2900_9500is completed ...\n",
      "C:\\Users\\tsx10\\PythonProjectsJupyter\\TUM\\FP\\Images\\images_22_06_23\\Spalt0.0mm_1500_2900_Noneis completed ...\n",
      "C:\\Users\\tsx10\\PythonProjectsJupyter\\TUM\\FP\\Images\\images_22_06_23\\Spalt0.1mm_1500_2900_Noneis completed ...\n",
      "C:\\Users\\tsx10\\PythonProjectsJupyter\\TUM\\FP\\Images\\images_22_06_23\\Spalt0.2mm_1500_2900_Noneis completed ...\n",
      "C:\\Users\\tsx10\\PythonProjectsJupyter\\TUM\\FP\\Images\\images_22_06_23\\Spalt0.3mm_1500_2900_Noneis completed ...\n",
      "C:\\Users\\tsx10\\PythonProjectsJupyter\\TUM\\FP\\Images\\images_22_06_23\\Spalt0.4mm_1500_2900_Noneis completed ...\n",
      "C:\\Users\\tsx10\\PythonProjectsJupyter\\TUM\\FP\\Images\\images_22_06_23\\Spalt0.5mm_1500_2900_Noneis completed ...\n",
      "C:\\Users\\tsx10\\PythonProjectsJupyter\\TUM\\FP\\Images\\images_22_06_23\\Spalt0.6mm_1500_2900_Noneis completed ...\n",
      "C:\\Users\\tsx10\\PythonProjectsJupyter\\TUM\\FP\\Images\\images_22_06_23\\Spalt0.7mm_1500_2900_Noneis completed ...\n",
      "C:\\Users\\tsx10\\PythonProjectsJupyter\\TUM\\FP\\Images\\images_22_06_23\\Spalt0.8mm_1500_2900_Noneis completed ...\n",
      "C:\\Users\\tsx10\\PythonProjectsJupyter\\TUM\\FP\\Images\\images_22_06_23\\Spalt0.9mm_1500_2900_Noneis completed ...\n",
      "C:\\Users\\tsx10\\PythonProjectsJupyter\\TUM\\FP\\Images\\images_22_06_23\\Spalt1.0mm_1500_2900_Noneis completed ...\n",
      "C:\\Users\\tsx10\\PythonProjectsJupyter\\TUM\\FP\\Images\\images_22_06_23\\Spalt1.1mm_1500_2900_Noneis completed ...\n",
      "C:\\Users\\tsx10\\PythonProjectsJupyter\\TUM\\FP\\Images\\images_22_06_23\\Spalt1.3mm_1500_2900_Noneis completed ...\n",
      "C:\\Users\\tsx10\\PythonProjectsJupyter\\TUM\\FP\\Images\\images_22_06_23\\Spalt1.4mm_1500_2900_Noneis completed ...\n",
      "C:\\Users\\tsx10\\PythonProjectsJupyter\\TUM\\FP\\Images\\images_22_06_23\\Spalt1.5mm_1500_2900_Noneis completed ...\n",
      "C:\\Users\\tsx10\\PythonProjectsJupyter\\TUM\\FP\\Images\\images_22_06_23\\Spalt1.6mm_1500_2900_Noneis completed ...\n",
      "C:\\Users\\tsx10\\PythonProjectsJupyter\\TUM\\FP\\Images\\images_22_06_23\\Spalt1.7mm_1500_2900_Noneis completed ...\n",
      "C:\\Users\\tsx10\\PythonProjectsJupyter\\TUM\\FP\\Images\\images_22_06_23\\Spalt1.8mm_1500_2900_Noneis completed ...\n",
      "C:\\Users\\tsx10\\PythonProjectsJupyter\\TUM\\FP\\Images\\images_22_06_23\\Spalt1.9mm_1500_2900_Noneis completed ...\n",
      "C:\\Users\\tsx10\\PythonProjectsJupyter\\TUM\\FP\\Images\\images_22_06_23\\Spalt2.0mm_1500_2900_Noneis completed ...\n",
      "C:\\Users\\tsx10\\PythonProjectsJupyter\\TUM\\FP\\Images\\images_22_06_23\\Winkel-1_1500_2900_9500is completed ...\n",
      "C:\\Users\\tsx10\\PythonProjectsJupyter\\TUM\\FP\\Images\\images_22_06_23\\Winkel-2_1500_2900_9500is completed ...\n",
      "C:\\Users\\tsx10\\PythonProjectsJupyter\\TUM\\FP\\Images\\images_22_06_23\\Winkel0_1500_2900_9500is completed ...\n",
      "C:\\Users\\tsx10\\PythonProjectsJupyter\\TUM\\FP\\Images\\images_22_06_23\\Winkel1_1500_2800_9500is completed ...\n",
      "C:\\Users\\tsx10\\PythonProjectsJupyter\\TUM\\FP\\Images\\images_22_06_23\\Winkel1_1500_2900_9500is completed ...\n",
      "C:\\Users\\tsx10\\PythonProjectsJupyter\\TUM\\FP\\Images\\images_22_06_23\\Winkel2_1500_2900_9500is completed ...\n",
      "C:\\Users\\tsx10\\PythonProjectsJupyter\\TUM\\FP\\Images\\images_22_06_23\\Winkel2_Vi_mo_1500_2900_9500is completed ...\n",
      "C:\\Users\\tsx10\\PythonProjectsJupyter\\TUM\\FP\\Images\\images_22_06_23\\Winkel3_1500_2900_9500is completed ...\n",
      "C:\\Users\\tsx10\\PythonProjectsJupyter\\TUM\\FP\\Images\\images_22_06_23\\Winkel4_1500_2900_9500is completed ...\n",
      "C:\\Users\\tsx10\\PythonProjectsJupyter\\TUM\\FP\\Images\\images_22_06_23\\Winkel4_Vi_mo_1500_2900_9500is completed ...\n",
      "C:\\Users\\tsx10\\PythonProjectsJupyter\\TUM\\FP\\Images\\images_22_06_23\\WV1mm_1500_2900_9500is completed ...\n"
     ]
    }
   ],
   "source": [
    "# 160 x 752 for split image\n",
    "\n",
    "folder_path = r\"C:\\Users\\tsx10\\PythonProjectsJupyter\\TUM\\FP\\Images\\images_22_06_23\"\n",
    "\n",
    "labelManager = LabelManager()\n",
    "subfolder_paths = labelManager.find_subfolder_path(folder_path)\n",
    "\n",
    "for subfolder_path in subfolder_paths:\n",
    "    print(subfolder_path + \"is completed ...\")\n",
    "    labelManager.split_images(subfolder_path)"
   ]
  },
  {
   "cell_type": "code",
   "execution_count": 2,
   "metadata": {},
   "outputs": [],
   "source": [
    "from dataset import split_evaluation_dataset, preprocess_evaluation_data, making_evaluation_json "
   ]
  },
  {
   "cell_type": "code",
   "execution_count": 3,
   "metadata": {},
   "outputs": [
    {
     "name": "stdout",
     "output_type": "stream",
     "text": [
      "starting spliting data ...\n"
     ]
    }
   ],
   "source": [
    "split_evaluation_dataset(folder_path=r\"C:\\Users\\tsx10\\PythonProjectsJupyter\\TUM\\FP\\trainning_dense161\\src\\workspace\", output_evaluation_path=r\"C:\\Users\\tsx10\\PythonProjectsJupyter\\TUM\\FP\\trainning_dense161\\data\\raw\\evaluation\")"
   ]
  },
  {
   "cell_type": "code",
   "execution_count": 5,
   "metadata": {},
   "outputs": [
    {
     "name": "stdout",
     "output_type": "stream",
     "text": [
      "processing 0\n",
      "processing 1\n"
     ]
    }
   ],
   "source": [
    "preprocess_evaluation_data(src_dir=r\"C:\\Users\\tsx10\\PythonProjectsJupyter\\TUM\\FP\\trainning_dense161\\data\\raw\\evaluation\", out_dir=r\"C:\\Users\\tsx10\\PythonProjectsJupyter\\TUM\\FP\\trainning_dense161\\data\\processed\\evaluation\")"
   ]
  },
  {
   "cell_type": "code",
   "execution_count": 7,
   "metadata": {},
   "outputs": [],
   "source": [
    "src_dir = r\"C:\\Users\\tsx10\\PythonProjectsJupyter\\TUM\\FP\\trainning_dense161\\data\\processed\\evaluation\"\n",
    "out_dir = r\"C:\\Users\\tsx10\\PythonProjectsJupyter\\TUM\\FP\\trainning_dense161\\src\\evaluation_analyse\""
   ]
  },
  {
   "cell_type": "code",
   "execution_count": 9,
   "metadata": {},
   "outputs": [
    {
     "name": "stdout",
     "output_type": "stream",
     "text": [
      "processing 0\n",
      "processing 1\n"
     ]
    }
   ],
   "source": [
    "# test dataset brightness 50\n",
    "\n",
    "making_evaluation_json(src_dir=src_dir, out_dir=out_dir, szenario=[5], filename=\"test_data\")"
   ]
  },
  {
   "cell_type": "code",
   "execution_count": 8,
   "metadata": {},
   "outputs": [
    {
     "name": "stdout",
     "output_type": "stream",
     "text": [
      "processing 0\n",
      "processing 1\n",
      "processing 0\n",
      "processing 1\n",
      "processing 0\n",
      "processing 1\n",
      "processing 0\n",
      "processing 1\n"
     ]
    }
   ],
   "source": [
    "# brightness\n",
    "\n",
    "# all level\n",
    "making_evaluation_json(src_dir=src_dir, out_dir=out_dir, szenario=[1, 10, 14], filename=\"evaluation_brightness\")\n",
    "\n",
    "# single level\n",
    "making_evaluation_json(src_dir=src_dir, out_dir=out_dir, szenario=[1], src_dir=src_dir, out_dir=out_dir, szenario=\"evaluation_brightness_30\")\n",
    "making_evaluation_json(src_dir=src_dir, out_dir=out_dir, szenario=[10], filename=\"evaluation_brightness_70\")\n",
    "making_evaluation_json(src_dir=src_dir, out_dir=out_dir, szenario=[14], filename=\"evaluation_brightness_100\")"
   ]
  },
  {
   "cell_type": "code",
   "execution_count": 10,
   "metadata": {},
   "outputs": [
    {
     "name": "stdout",
     "output_type": "stream",
     "text": [
      "processing 0\n",
      "processing 1\n",
      "processing 0\n",
      "processing 1\n",
      "processing 0\n",
      "processing 1\n"
     ]
    }
   ],
   "source": [
    "# rotation z, brightness 50\n",
    "\n",
    "# all level\n",
    "making_evaluation_json(src_dir=src_dir, out_dir=out_dir, szenario=[6, 7], filename=\"evaluation_rotationz\")\n",
    "\n",
    "# single level\n",
    "making_evaluation_json(src_dir=src_dir, out_dir=out_dir, szenario=[6], filename=\"evaluation_rotationz_03\")\n",
    "making_evaluation_json(src_dir=src_dir, out_dir=out_dir, szenario=[7], filename=\"evaluation_rotationz_06\")"
   ]
  },
  {
   "cell_type": "code",
   "execution_count": 11,
   "metadata": {},
   "outputs": [
    {
     "name": "stdout",
     "output_type": "stream",
     "text": [
      "processing 0\n",
      "processing 1\n"
     ]
    }
   ],
   "source": [
    "# rotation x, brightness 50\n",
    "\n",
    "making_evaluation_json(src_dir=src_dir, out_dir=out_dir, szenario=[8], filename=\"evaluation_rotationx_13\")"
   ]
  },
  {
   "cell_type": "code",
   "execution_count": 12,
   "metadata": {},
   "outputs": [
    {
     "name": "stdout",
     "output_type": "stream",
     "text": [
      "processing 0\n",
      "processing 1\n"
     ]
    }
   ],
   "source": [
    "# blur, brightness 50\n",
    "\n",
    "making_evaluation_json(src_dir=src_dir, out_dir=out_dir, szenario=[9], filename=\"evaluation_blur\")"
   ]
  },
  {
   "cell_type": "code",
   "execution_count": 13,
   "metadata": {},
   "outputs": [
    {
     "name": "stdout",
     "output_type": "stream",
     "text": [
      "processing 0\n",
      "processing 1\n"
     ]
    }
   ],
   "source": [
    "# combination brightness 100 and rotation z pi/50\n",
    "\n",
    "making_evaluation_json(src_dir=src_dir, out_dir=out_dir, szenario=[16], filename=\"evaluation_combi_b100_rz50\")"
   ]
  },
  {
   "cell_type": "code",
   "execution_count": 14,
   "metadata": {},
   "outputs": [
    {
     "name": "stdout",
     "output_type": "stream",
     "text": [
      "processing 0\n",
      "processing 1\n"
     ]
    }
   ],
   "source": [
    "# combination brightness 30 and rotation x\n",
    "\n",
    "making_evaluation_json(src_dir=src_dir, out_dir=out_dir, szenario=[4], filename=\"evaluation_combi_b30_rx13\")"
   ]
  },
  {
   "cell_type": "code",
   "execution_count": 15,
   "metadata": {},
   "outputs": [
    {
     "name": "stdout",
     "output_type": "stream",
     "text": [
      "processing 0\n",
      "processing 1\n"
     ]
    }
   ],
   "source": [
    "# all evaluation data\n",
    "\n",
    "making_evaluation_json(src_dir=src_dir, out_dir=out_dir, szenario=[_ for _ in range(1, 18)], filename=\"evaluation_all\")"
   ]
  }
 ],
 "metadata": {
  "kernelspec": {
   "display_name": "Computer_Vision",
   "language": "python",
   "name": "python3"
  },
  "language_info": {
   "codemirror_mode": {
    "name": "ipython",
    "version": 3
   },
   "file_extension": ".py",
   "mimetype": "text/x-python",
   "name": "python",
   "nbconvert_exporter": "python",
   "pygments_lexer": "ipython3",
   "version": "3.9.16"
  },
  "orig_nbformat": 4
 },
 "nbformat": 4,
 "nbformat_minor": 2
}
